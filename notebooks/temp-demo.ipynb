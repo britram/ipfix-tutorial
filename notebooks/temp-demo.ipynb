{
 "metadata": {
  "name": ""
 },
 "nbformat": 3,
 "nbformat_minor": 0,
 "worksheets": [
  {
   "cells": [
    {
     "cell_type": "code",
     "collapsed": false,
     "input": [
      "import ipfix\n",
      "from datetime import datetime\n",
      "\n",
      "ipfix.ie.use_iana_default()\n",
      "ipfix.ie.for_spec(\"ambientTemperatureCelsius(35566/2)<float32>[4]\")\n",
      "ipfix.ie.for_spec(\"relativeHumidityPercent(35566/3)<float32>[4]\")"
     ],
     "language": "python",
     "metadata": {},
     "outputs": [
      {
       "metadata": {},
       "output_type": "pyout",
       "prompt_number": 1,
       "text": [
        "InformationElement('relativeHumidityPercent', 35566, 3, ipfix.types.for_name('float32'), 4)"
       ]
      }
     ],
     "prompt_number": 1
    },
    {
     "cell_type": "code",
     "collapsed": false,
     "input": [
      "msg = ipfix.message.MessageBuffer()"
     ],
     "language": "python",
     "metadata": {},
     "outputs": [],
     "prompt_number": 2
    },
    {
     "cell_type": "code",
     "collapsed": false,
     "input": [
      "tmpl = ipfix.template.for_specs(256,\"observationTimeSeconds\",\"observationPointId[4]\",\"ambientTemperatureCelsius\",\"relativeHumidityPercent\")"
     ],
     "language": "python",
     "metadata": {},
     "outputs": [],
     "prompt_number": 3
    },
    {
     "cell_type": "code",
     "collapsed": false,
     "input": [
      "msg.begin_export(1)\n",
      "msg.add_template(tmpl)\n",
      "b = msg.to_bytes()\n",
      "\"uint8_t foo[] = [\" + \",\".join([hex(x) for x in b]) + \"];\""
     ],
     "language": "python",
     "metadata": {},
     "outputs": [
      {
       "metadata": {},
       "output_type": "pyout",
       "prompt_number": 4,
       "text": [
        "'uint8_t foo[] = [0x0,0xa,0x0,0x30,0x0,0x0,0x0,0x0,0x52,0x54,0x5a,0xe2,0x0,0x0,0x0,0x1,0x0,0x2,0x0,0x20,0x1,0x0,0x0,0x4,0x1,0x42,0x0,0x4,0x0,0x8a,0x0,0x4,0x80,0x2,0x0,0x4,0x0,0x0,0x8a,0xee,0x80,0x3,0x0,0x4,0x0,0x0,0x8a,0xee];'"
       ]
      }
     ],
     "prompt_number": 4
    },
    {
     "cell_type": "code",
     "collapsed": false,
     "input": [],
     "language": "python",
     "metadata": {},
     "outputs": [],
     "prompt_number": 4
    },
    {
     "cell_type": "code",
     "collapsed": false,
     "input": [
      "msg.begin_export(1)\n",
      "msg.export_new_set(256)\n",
      "msg.export_tuple((datetime.utcnow(), 1, 1.0, 2.0))\n",
      "b = msg.to_bytes()\n",
      "\"uint8_t foo[] = [\" + \",\".join([hex(x) for x in b]) + \"];\""
     ],
     "language": "python",
     "metadata": {},
     "outputs": [
      {
       "metadata": {},
       "output_type": "pyout",
       "prompt_number": 5,
       "text": [
        "'uint8_t foo[] = [0x0,0xa,0x0,0x24,0x0,0x0,0x0,0x0,0x52,0x54,0x5a,0xe3,0x0,0x0,0x0,0x1,0x1,0x0,0x0,0x14,0x52,0x54,0x3e,0xc3,0x0,0x0,0x0,0x1,0x3f,0x80,0x0,0x0,0x40,0x0,0x0,0x0];'"
       ]
      }
     ],
     "prompt_number": 5
    },
    {
     "cell_type": "code",
     "collapsed": false,
     "input": [],
     "language": "python",
     "metadata": {},
     "outputs": []
    }
   ],
   "metadata": {}
  }
 ]
}