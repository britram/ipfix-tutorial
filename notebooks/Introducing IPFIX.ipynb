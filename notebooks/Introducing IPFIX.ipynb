{
 "metadata": {
  "name": "",
  "signature": "sha256:9da24394819694e63dd995f75a99df1a888d9b2a682c232c1b17784e5fc8e919"
 },
 "nbformat": 3,
 "nbformat_minor": 0,
 "worksheets": [
  {
   "cells": [
    {
     "cell_type": "markdown",
     "metadata": {},
     "source": [
      "## Introducing IPFIX and the python `ipfix` module\n",
      "\n",
      "IP Flow Information Export (IPFIX) (see [RFC7011](http://tools.ietf.org/html/7011)) is the IETF standard for export of network traffic flow data, and is comprised of:\n",
      "\n",
      "1. a unidirectional **protocol** for data export;\n",
      "2. a **data format** providing efficient record-level self-description for this protocol; and\n",
      "3. an **information model** providing the vocabulary for this data format.\n",
      "\n",
      "The Python IPFIX module (`pip install ipfix`) provides access to the data format and information model for bridging between IPFIX Messages and Python objects, and is useful for building implementations of the protocol, as well as for manipulating data stored in IPFIX files (see [RFC5655](http://tools.ietf.org/html/5655)). Documentation for the module is available at [github](https://britram.github.io/python-ipfix). The package also contains an undocumented module for *visualizing* IPFIX Messages as SVG graphics representing bitfields. We'll use this functionality in this notebook to explore the structure of IPFIX Messages.\n",
      "\n",
      "First, execute the following code to import and define a few functions we'll need:"
     ]
    },
    {
     "cell_type": "code",
     "collapsed": false,
     "input": [
      "import ipfix\n",
      "import ipfix.vis\n",
      "\n",
      "from ipaddress import ip_address\n",
      "from datetime import datetime\n",
      "from datetime import timezone\n",
      "from IPython.display import SVG\n",
      "\n",
      "def iso8601(x):\n",
      "    return datetime.strptime(x, \"%Y-%m-%d %H:%M:%S.%f\")\n",
      "\n",
      "def draw_message(msg, length=256):\n",
      "    return SVG(ipfix.vis.MessageBufferRenderer(msg, raster=4).render(length=length))\n",
      "\n",
      "def draw_template(tmpl):\n",
      "    ofd = ipfix.vis.OctetFieldDrawing(raster=4)\n",
      "    ipfix.vis.draw_template(ofd, tmpl)\n",
      "    return SVG(ofd.render((90,30)))"
     ],
     "language": "python",
     "metadata": {},
     "outputs": [],
     "prompt_number": 1
    },
    {
     "cell_type": "markdown",
     "metadata": {},
     "source": [
      "IPFIX identifies data record structures using Information Elements (IEs). The basic IEs are defined in the IANA [IPFIX Information Element Registry](http://www.iana.org/assignments/ipfix), and a mechanism for applying these IEs to export bidirectional flow data is defined in [RFC 5103](http://tools.ietf.org/html/5103). In order to work with these IEs, we'll need to tell the `ipfix` module to use them:"
     ]
    },
    {
     "cell_type": "code",
     "collapsed": false,
     "input": [
      "ipfix.ie.use_iana_default()\n",
      "ipfix.ie.use_5103_default()"
     ],
     "language": "python",
     "metadata": {},
     "outputs": [],
     "prompt_number": 2
    },
    {
     "cell_type": "markdown",
     "metadata": {},
     "source": [
      "Okay, now we're ready to begin.\n",
      "\n",
      "## Templates and Messages\n",
      "\n",
      "A Template is an ordered sequence of IEs that describes the structure of a type of Data Record. If you're familiar with relational databases, you can think of a Template as defining a table, and an IE as a defined column name with a standard meaning, such that records containing the same IEs describe the same type of data.\n",
      "\n",
      "Let's consider a template defining a simple IPv4 flow record, with start and end timestamps, source and destination addresses and ports, protocol identifier, octet and packet delta counts:"
     ]
    },
    {
     "cell_type": "code",
     "collapsed": false,
     "input": [
      "tmpl = ipfix.template.for_specs(261, \"flowStartMilliseconds\", \n",
      "                                     \"flowEndMilliseconds\", \n",
      "                                     \"sourceIPv4Address\", \n",
      "                                     \"destinationIPv4Address\",\n",
      "                                     \"sourceTransportPort\",\n",
      "                                     \"destinationTransportPort\",\n",
      "                                     \"protocolIdentifier\",\n",
      "                                     \"octetDeltaCount\", \n",
      "                                     \"packetDeltaCount\")\n",
      "draw_template(tmpl)"
     ],
     "language": "python",
     "metadata": {},
     "outputs": [
      {
       "metadata": {},
       "output_type": "pyout",
       "prompt_number": 3,
       "svg": [
        "<svg baseProfile=\"full\" height=\"330\" version=\"1.1\" width=\"450\" xmlns=\"http://www.w3.org/2000/svg\" xmlns:ev=\"http://www.w3.org/2001/xml-events\" xmlns:xlink=\"http://www.w3.org/1999/xlink\"><defs><g font-size=\"17\" id=\"69i3arv5tnp7bjuu\"><text style=\"text-anchor: right; dominant-baseline: hanging;\" x=\"72.0\" y=\"0\">0</text><text style=\"text-anchor: right; dominant-baseline: hanging;\" x=\"162.0\" y=\"0\">1</text><text style=\"text-anchor: right; dominant-baseline: hanging;\" x=\"252.0\" y=\"0\">2</text><text style=\"text-anchor: right; dominant-baseline: hanging;\" x=\"342.0\" y=\"0\">3</text></g><g font-size=\"17\" id=\"d23agk10qq0njbd6\"><text style=\"text-anchor: left; dominant-baseline: hanging;\" x=\"0\" y=\"0\">0x0</text><text style=\"text-anchor: left; dominant-baseline: hanging;\" x=\"0\" y=\"30\">0x4</text><text style=\"text-anchor: left; dominant-baseline: hanging;\" x=\"0\" y=\"60\">0x8</text><text style=\"text-anchor: left; dominant-baseline: hanging;\" x=\"0\" y=\"90\">0xc</text><text style=\"text-anchor: left; dominant-baseline: hanging;\" x=\"0\" y=\"120\">0x10</text><text style=\"text-anchor: left; dominant-baseline: hanging;\" x=\"0\" y=\"150\">0x14</text><text style=\"text-anchor: left; dominant-baseline: hanging;\" x=\"0\" y=\"180\">0x18</text><text style=\"text-anchor: left; dominant-baseline: hanging;\" x=\"0\" y=\"210\">0x1c</text><text style=\"text-anchor: left; dominant-baseline: hanging;\" x=\"0\" y=\"240\">0x20</text><text style=\"text-anchor: left; dominant-baseline: hanging;\" x=\"0\" y=\"270\">0x24</text></g><g id=\"boxes-q7af8ga6dxdulky0\" stroke=\"black\" stroke-width=\"2\"><rect fill=\"white\" height=\"30\" width=\"180\" x=\"0\" y=\"0\"/><rect fill=\"white\" height=\"30\" width=\"180\" x=\"180\" y=\"0\"/><rect fill=\"white\" height=\"30\" width=\"180\" x=\"0\" y=\"30\"/><rect fill=\"white\" height=\"30\" width=\"180\" x=\"180\" y=\"30\"/><rect fill=\"white\" height=\"30\" width=\"180\" x=\"0\" y=\"60\"/><rect fill=\"white\" height=\"30\" width=\"180\" x=\"180\" y=\"60\"/><rect fill=\"white\" height=\"30\" width=\"180\" x=\"0\" y=\"90\"/><rect fill=\"white\" height=\"30\" width=\"180\" x=\"180\" y=\"90\"/><rect fill=\"white\" height=\"30\" width=\"180\" x=\"0\" y=\"120\"/><rect fill=\"white\" height=\"30\" width=\"180\" x=\"180\" y=\"120\"/><rect fill=\"white\" height=\"30\" width=\"180\" x=\"0\" y=\"150\"/><rect fill=\"white\" height=\"30\" width=\"180\" x=\"180\" y=\"150\"/><rect fill=\"white\" height=\"30\" width=\"180\" x=\"0\" y=\"180\"/><rect fill=\"white\" height=\"30\" width=\"180\" x=\"180\" y=\"180\"/><rect fill=\"white\" height=\"30\" width=\"180\" x=\"0\" y=\"210\"/><rect fill=\"white\" height=\"30\" width=\"180\" x=\"180\" y=\"210\"/><rect fill=\"white\" height=\"30\" width=\"180\" x=\"0\" y=\"240\"/><rect fill=\"white\" height=\"30\" width=\"180\" x=\"180\" y=\"240\"/><rect fill=\"white\" height=\"30\" width=\"180\" x=\"0\" y=\"270\"/><rect fill=\"white\" height=\"30\" width=\"180\" x=\"180\" y=\"270\"/></g><g font-size=\"15\" id=\"text-q7af8ga6dxdulky0\"><text style=\"text-anchor: middle; dominant-baseline: hanging;\" x=\"90.0\" y=\"15.0\">ID: 261</text><text style=\"text-anchor: middle; dominant-baseline: hanging;\" x=\"270.0\" y=\"15.0\">Count: 9</text><text style=\"text-anchor: middle; dominant-baseline: hanging;\" x=\"90.0\" y=\"45.0\">IE: flowSt...onds(152)</text><text style=\"text-anchor: middle; dominant-baseline: hanging;\" x=\"270.0\" y=\"45.0\">Len: 8</text><text style=\"text-anchor: middle; dominant-baseline: hanging;\" x=\"90.0\" y=\"75.0\">IE: flowEn...onds(153)</text><text style=\"text-anchor: middle; dominant-baseline: hanging;\" x=\"270.0\" y=\"75.0\">Len: 8</text><text style=\"text-anchor: middle; dominant-baseline: hanging;\" x=\"90.0\" y=\"105.0\">IE: source...ress(8)</text><text style=\"text-anchor: middle; dominant-baseline: hanging;\" x=\"270.0\" y=\"105.0\">Len: 4</text><text style=\"text-anchor: middle; dominant-baseline: hanging;\" x=\"90.0\" y=\"135.0\">IE: destin...ress(12)</text><text style=\"text-anchor: middle; dominant-baseline: hanging;\" x=\"270.0\" y=\"135.0\">Len: 4</text><text style=\"text-anchor: middle; dominant-baseline: hanging;\" x=\"90.0\" y=\"165.0\">IE: source...Port(7)</text><text style=\"text-anchor: middle; dominant-baseline: hanging;\" x=\"270.0\" y=\"165.0\">Len: 2</text><text style=\"text-anchor: middle; dominant-baseline: hanging;\" x=\"90.0\" y=\"195.0\">IE: destin...Port(11)</text><text style=\"text-anchor: middle; dominant-baseline: hanging;\" x=\"270.0\" y=\"195.0\">Len: 2</text><text style=\"text-anchor: middle; dominant-baseline: hanging;\" x=\"90.0\" y=\"225.0\">IE: protoc...fier(4)</text><text style=\"text-anchor: middle; dominant-baseline: hanging;\" x=\"270.0\" y=\"225.0\">Len: 1</text><text style=\"text-anchor: middle; dominant-baseline: hanging;\" x=\"90.0\" y=\"255.0\">IE: octetD...ount(1)</text><text style=\"text-anchor: middle; dominant-baseline: hanging;\" x=\"270.0\" y=\"255.0\">Len: 8</text><text style=\"text-anchor: middle; dominant-baseline: hanging;\" x=\"90.0\" y=\"285.0\">IE: packet...ount(2)</text><text style=\"text-anchor: middle; dominant-baseline: hanging;\" x=\"270.0\" y=\"285.0\">Len: 8</text></g></defs><use x=\"90\" xlink:href=\"#69i3arv5tnp7bjuu\" y=\"0\"/><use x=\"0\" xlink:href=\"#d23agk10qq0njbd6\" y=\"15.0\"/><use x=\"90\" xlink:href=\"#boxes-q7af8ga6dxdulky0\" y=\"15.0\"/><use x=\"90\" xlink:href=\"#text-q7af8ga6dxdulky0\" y=\"15.0\"/></svg>"
       ],
       "text": [
        "<IPython.core.display.SVG at 0x108170898>"
       ]
      }
     ],
     "prompt_number": 3
    },
    {
     "cell_type": "markdown",
     "metadata": {},
     "source": [
      "Here we see that the use of an IE registry, which maps these numbers to names, allows IPFIX to represent this type information very efficiently: the template consists of a 16-bit template ID, a 16-bit field count, and 16 bits for the ID and 16 bits for the length for each IE.\n",
      "\n",
      "To illustrate how this template is used to encode a record, let's add this template to a message, along with a record encoded using the template:"
     ]
    },
    {
     "cell_type": "code",
     "collapsed": false,
     "input": [
      "msg = ipfix.message.MessageBuffer()\n",
      "msg.begin_export(8304)  # Observation Domain ID\n",
      "msg.add_template(tmpl)\n",
      "msg.export_new_set(261) # The set ID here refers to the Template ID of the template\n",
      "msg.export_namedict({ 'flowStartMilliseconds':    iso8601('2012-10-22 09:29:07.170000'),\n",
      "                      'flowEndMilliseconds':      iso8601('2012-10-22 09:29:33.916000'),\n",
      "                      'sourceIPv4Address':        ip_address('192.0.2.11'),\n",
      "                      'destinationIPv4Address':   ip_address('192.0.2.212'),\n",
      "                      'sourceTransportPort':      32798,\n",
      "                      'destinationTransportPort': 80,\n",
      "                      'protocolIdentifier':       6,\n",
      "                      'packetDeltaCount':         17,\n",
      "                      'octetDeltaCount':          3329})\n",
      "draw_message(msg)\n"
     ],
     "language": "python",
     "metadata": {},
     "outputs": [
      {
       "metadata": {},
       "output_type": "pyout",
       "prompt_number": 4,
       "svg": [
        "<svg baseProfile=\"full\" height=\"900\" version=\"1.1\" width=\"450\" xmlns=\"http://www.w3.org/2000/svg\" xmlns:ev=\"http://www.w3.org/2001/xml-events\" xmlns:xlink=\"http://www.w3.org/1999/xlink\"><defs><g font-size=\"17\" id=\"ifb67oelvvi0wiw8\"><text style=\"text-anchor: right; dominant-baseline: hanging;\" x=\"72.0\" y=\"0\">0</text><text style=\"text-anchor: right; dominant-baseline: hanging;\" x=\"162.0\" y=\"0\">1</text><text style=\"text-anchor: right; dominant-baseline: hanging;\" x=\"252.0\" y=\"0\">2</text><text style=\"text-anchor: right; dominant-baseline: hanging;\" x=\"342.0\" y=\"0\">3</text></g><g font-size=\"17\" id=\"la79i37vmmbbptzc\"><text style=\"text-anchor: left; dominant-baseline: hanging;\" x=\"0\" y=\"0\">0x0</text><text style=\"text-anchor: left; dominant-baseline: hanging;\" x=\"0\" y=\"30\">0x4</text><text style=\"text-anchor: left; dominant-baseline: hanging;\" x=\"0\" y=\"60\">0x8</text><text style=\"text-anchor: left; dominant-baseline: hanging;\" x=\"0\" y=\"90\">0xc</text><text style=\"text-anchor: left; dominant-baseline: hanging;\" x=\"0\" y=\"120\">0x10</text><text style=\"text-anchor: left; dominant-baseline: hanging;\" x=\"0\" y=\"150\">0x14</text><text style=\"text-anchor: left; dominant-baseline: hanging;\" x=\"0\" y=\"180\">0x18</text><text style=\"text-anchor: left; dominant-baseline: hanging;\" x=\"0\" y=\"210\">0x1c</text><text style=\"text-anchor: left; dominant-baseline: hanging;\" x=\"0\" y=\"240\">0x20</text><text style=\"text-anchor: left; dominant-baseline: hanging;\" x=\"0\" y=\"270\">0x24</text><text style=\"text-anchor: left; dominant-baseline: hanging;\" x=\"0\" y=\"300\">0x28</text><text style=\"text-anchor: left; dominant-baseline: hanging;\" x=\"0\" y=\"330\">0x2c</text><text style=\"text-anchor: left; dominant-baseline: hanging;\" x=\"0\" y=\"360\">0x30</text><text style=\"text-anchor: left; dominant-baseline: hanging;\" x=\"0\" y=\"390\">0x34</text><text style=\"text-anchor: left; dominant-baseline: hanging;\" x=\"0\" y=\"420\">0x38</text><text style=\"text-anchor: left; dominant-baseline: hanging;\" x=\"0\" y=\"450\">0x3c</text><text style=\"text-anchor: left; dominant-baseline: hanging;\" x=\"0\" y=\"480\">0x40</text><text style=\"text-anchor: left; dominant-baseline: hanging;\" x=\"0\" y=\"510\">0x44</text><text style=\"text-anchor: left; dominant-baseline: hanging;\" x=\"0\" y=\"540\">0x48</text><text style=\"text-anchor: left; dominant-baseline: hanging;\" x=\"0\" y=\"570\">0x4c</text><text style=\"text-anchor: left; dominant-baseline: hanging;\" x=\"0\" y=\"600\">0x50</text><text style=\"text-anchor: left; dominant-baseline: hanging;\" x=\"0\" y=\"630\">0x54</text><text style=\"text-anchor: left; dominant-baseline: hanging;\" x=\"0\" y=\"660\">0x58</text><text style=\"text-anchor: left; dominant-baseline: hanging;\" x=\"0\" y=\"690\">0x5c</text><text style=\"text-anchor: left; dominant-baseline: hanging;\" x=\"0\" y=\"720\">0x5d</text><text style=\"text-anchor: left; dominant-baseline: hanging;\" x=\"0\" y=\"750\">0x61</text><text style=\"text-anchor: left; dominant-baseline: hanging;\" x=\"0\" y=\"780\">0x65</text><text style=\"text-anchor: left; dominant-baseline: hanging;\" x=\"0\" y=\"810\">0x69</text><text style=\"text-anchor: left; dominant-baseline: hanging;\" x=\"0\" y=\"840\">0x6d</text></g><g id=\"boxes-bhbrmmo6ciyxxryf\" stroke=\"black\" stroke-width=\"2\"><rect fill=\"rgb(255,216,216)\" height=\"30\" width=\"180\" x=\"0\" y=\"0\"/><rect fill=\"rgb(255,216,216)\" height=\"30\" width=\"180\" x=\"180\" y=\"0\"/><rect fill=\"rgb(255,216,216)\" height=\"30\" width=\"360\" x=\"0\" y=\"30\"/><rect fill=\"rgb(255,216,216)\" height=\"30\" width=\"360\" x=\"0\" y=\"60\"/><rect fill=\"rgb(255,216,216)\" height=\"30\" width=\"360\" x=\"0\" y=\"90\"/><rect fill=\"rgb(240,192,216)\" height=\"30\" width=\"180\" x=\"0\" y=\"120\"/><rect fill=\"rgb(240,192,216)\" height=\"30\" width=\"180\" x=\"180\" y=\"120\"/><rect fill=\"rgb(224,224,255)\" height=\"30\" width=\"180\" x=\"0\" y=\"150\"/><rect fill=\"rgb(224,224,255)\" height=\"30\" width=\"180\" x=\"180\" y=\"150\"/><rect fill=\"rgb(224,224,255)\" height=\"30\" width=\"180\" x=\"0\" y=\"180\"/><rect fill=\"rgb(224,224,255)\" height=\"30\" width=\"180\" x=\"180\" y=\"180\"/><rect fill=\"rgb(224,224,255)\" height=\"30\" width=\"180\" x=\"0\" y=\"210\"/><rect fill=\"rgb(224,224,255)\" height=\"30\" width=\"180\" x=\"180\" y=\"210\"/><rect fill=\"rgb(224,224,255)\" height=\"30\" width=\"180\" x=\"0\" y=\"240\"/><rect fill=\"rgb(224,224,255)\" height=\"30\" width=\"180\" x=\"180\" y=\"240\"/><rect fill=\"rgb(224,224,255)\" height=\"30\" width=\"180\" x=\"0\" y=\"270\"/><rect fill=\"rgb(224,224,255)\" height=\"30\" width=\"180\" x=\"180\" y=\"270\"/><rect fill=\"rgb(224,224,255)\" height=\"30\" width=\"180\" x=\"0\" y=\"300\"/><rect fill=\"rgb(224,224,255)\" height=\"30\" width=\"180\" x=\"180\" y=\"300\"/><rect fill=\"rgb(224,224,255)\" height=\"30\" width=\"180\" x=\"0\" y=\"330\"/><rect fill=\"rgb(224,224,255)\" height=\"30\" width=\"180\" x=\"180\" y=\"330\"/><rect fill=\"rgb(224,224,255)\" height=\"30\" width=\"180\" x=\"0\" y=\"360\"/><rect fill=\"rgb(224,224,255)\" height=\"30\" width=\"180\" x=\"180\" y=\"360\"/><rect fill=\"rgb(224,224,255)\" height=\"30\" width=\"180\" x=\"0\" y=\"390\"/><rect fill=\"rgb(224,224,255)\" height=\"30\" width=\"180\" x=\"180\" y=\"390\"/><rect fill=\"rgb(224,224,255)\" height=\"30\" width=\"180\" x=\"0\" y=\"420\"/><rect fill=\"rgb(224,224,255)\" height=\"30\" width=\"180\" x=\"180\" y=\"420\"/><rect fill=\"rgb(240,192,216)\" height=\"30\" width=\"180\" x=\"0\" y=\"450\"/><rect fill=\"rgb(240,192,216)\" height=\"30\" width=\"180\" x=\"180\" y=\"450\"/><rect fill=\"rgb(255,255,216)\" height=\"60.0\" width=\"360\" x=\"0\" y=\"480\"/><rect fill=\"rgb(255,255,216)\" height=\"60.0\" width=\"360\" x=\"0\" y=\"540\"/><rect fill=\"rgb(255,255,216)\" height=\"30\" width=\"360\" x=\"0\" y=\"600\"/><rect fill=\"rgb(255,255,216)\" height=\"30\" width=\"360\" x=\"0\" y=\"630\"/><rect fill=\"rgb(255,255,216)\" height=\"30\" width=\"180\" x=\"0\" y=\"660\"/><rect fill=\"rgb(255,255,216)\" height=\"30\" width=\"180\" x=\"180\" y=\"660\"/><rect fill=\"rgb(255,255,216)\" height=\"30\" width=\"90\" x=\"0\" y=\"690\"/><rect fill=\"rgb(255,255,216)\" height=\"60.0\" width=\"360\" x=\"0\" y=\"720\"/><rect fill=\"rgb(255,255,216)\" height=\"60.0\" width=\"360\" x=\"0\" y=\"780\"/></g><g font-size=\"15\" id=\"text-bhbrmmo6ciyxxryf\"><text style=\"text-anchor: middle; dominant-baseline: hanging;\" x=\"90.0\" y=\"15.0\">Version: 10</text><text style=\"text-anchor: middle; dominant-baseline: hanging;\" x=\"270.0\" y=\"15.0\">Length: 109</text><text style=\"text-anchor: middle; dominant-baseline: hanging;\" x=\"180.0\" y=\"45.0\">Export Time: 2014-07-08 13:48:13.000000 </text><text style=\"text-anchor: middle; dominant-baseline: hanging;\" x=\"180.0\" y=\"75.0\">Sequence: 0</text><text style=\"text-anchor: middle; dominant-baseline: hanging;\" x=\"180.0\" y=\"105.0\">Observation Domain: 8304</text><text style=\"text-anchor: middle; dominant-baseline: hanging;\" x=\"90.0\" y=\"135.0\">Set ID: 2</text><text style=\"text-anchor: middle; dominant-baseline: hanging;\" x=\"270.0\" y=\"135.0\">Set Length: 44</text><text style=\"text-anchor: middle; dominant-baseline: hanging;\" x=\"90.0\" y=\"165.0\">ID: 261</text><text style=\"text-anchor: middle; dominant-baseline: hanging;\" x=\"270.0\" y=\"165.0\">Count: 9</text><text style=\"text-anchor: middle; dominant-baseline: hanging;\" x=\"90.0\" y=\"195.0\">IE: flowSt...onds(152)</text><text style=\"text-anchor: middle; dominant-baseline: hanging;\" x=\"270.0\" y=\"195.0\">Len: 8</text><text style=\"text-anchor: middle; dominant-baseline: hanging;\" x=\"90.0\" y=\"225.0\">IE: flowEn...onds(153)</text><text style=\"text-anchor: middle; dominant-baseline: hanging;\" x=\"270.0\" y=\"225.0\">Len: 8</text><text style=\"text-anchor: middle; dominant-baseline: hanging;\" x=\"90.0\" y=\"255.0\">IE: source...ress(8)</text><text style=\"text-anchor: middle; dominant-baseline: hanging;\" x=\"270.0\" y=\"255.0\">Len: 4</text><text style=\"text-anchor: middle; dominant-baseline: hanging;\" x=\"90.0\" y=\"285.0\">IE: destin...ress(12)</text><text style=\"text-anchor: middle; dominant-baseline: hanging;\" x=\"270.0\" y=\"285.0\">Len: 4</text><text style=\"text-anchor: middle; dominant-baseline: hanging;\" x=\"90.0\" y=\"315.0\">IE: source...Port(7)</text><text style=\"text-anchor: middle; dominant-baseline: hanging;\" x=\"270.0\" y=\"315.0\">Len: 2</text><text style=\"text-anchor: middle; dominant-baseline: hanging;\" x=\"90.0\" y=\"345.0\">IE: destin...Port(11)</text><text style=\"text-anchor: middle; dominant-baseline: hanging;\" x=\"270.0\" y=\"345.0\">Len: 2</text><text style=\"text-anchor: middle; dominant-baseline: hanging;\" x=\"90.0\" y=\"375.0\">IE: protoc...fier(4)</text><text style=\"text-anchor: middle; dominant-baseline: hanging;\" x=\"270.0\" y=\"375.0\">Len: 1</text><text style=\"text-anchor: middle; dominant-baseline: hanging;\" x=\"90.0\" y=\"405.0\">IE: octetD...ount(1)</text><text style=\"text-anchor: middle; dominant-baseline: hanging;\" x=\"270.0\" y=\"405.0\">Len: 8</text><text style=\"text-anchor: middle; dominant-baseline: hanging;\" x=\"90.0\" y=\"435.0\">IE: packet...ount(2)</text><text style=\"text-anchor: middle; dominant-baseline: hanging;\" x=\"270.0\" y=\"435.0\">Len: 8</text><text style=\"text-anchor: middle; dominant-baseline: hanging;\" x=\"90.0\" y=\"465.0\">Set ID: 261</text><text style=\"text-anchor: middle; dominant-baseline: hanging;\" x=\"270.0\" y=\"465.0\">Set Length: 49</text><text style=\"text-anchor: middle; dominant-baseline: hanging;\" x=\"180.0\" y=\"510.0\">flowStar...iseconds: 2012-10-22 09:29:07.170000 </text><text style=\"text-anchor: middle; dominant-baseline: hanging;\" x=\"180.0\" y=\"570.0\">flowEndMilliseconds: 2012-10-22 09:29:33.915999 </text><text style=\"text-anchor: middle; dominant-baseline: hanging;\" x=\"180.0\" y=\"615.0\">sourceIPv4Address: 192.0.2.11</text><text style=\"text-anchor: middle; dominant-baseline: hanging;\" x=\"180.0\" y=\"645.0\">destinat...4Address: 192.0.2.212</text><text style=\"text-anchor: middle; dominant-baseline: hanging;\" x=\"90.0\" y=\"675.0\">sourceTr...Port: 32798</text><text style=\"text-anchor: middle; dominant-baseline: hanging;\" x=\"270.0\" y=\"675.0\">destinat...Port: 80</text><text style=\"text-anchor: middle; dominant-baseline: hanging;\" x=\"45.0\" y=\"705.0\">prot...fier: 6</text><text style=\"text-anchor: middle; dominant-baseline: hanging;\" x=\"180.0\" y=\"750.0\">octetDeltaCount: 3329</text><text style=\"text-anchor: middle; dominant-baseline: hanging;\" x=\"180.0\" y=\"810.0\">packetDeltaCount: 17</text></g></defs><use x=\"90\" xlink:href=\"#ifb67oelvvi0wiw8\" y=\"0\"/><use x=\"0\" xlink:href=\"#la79i37vmmbbptzc\" y=\"15.0\"/><use x=\"90\" xlink:href=\"#boxes-bhbrmmo6ciyxxryf\" y=\"15.0\"/><use x=\"90\" xlink:href=\"#text-bhbrmmo6ciyxxryf\" y=\"15.0\"/></svg>"
       ],
       "text": [
        "<IPython.core.display.SVG at 0x108170a20>"
       ]
      }
     ],
     "prompt_number": 4
    },
    {
     "cell_type": "markdown",
     "metadata": {},
     "source": [
      "First we see a message header, containing the **version** (10) and **length** of the message in bytes, followed by a **sequence number** (which here advertises that 0 records have been sent for this observation domain ID in this file or session), an export time, and an **observation domain ID**. Observation domains separate parts of a metering infrastructure into logical domains within which a given packet is reported as observed at most once, and map to sets of components coordinated in measurement of passing flows (e.g., a line card).\n",
      "\n",
      "Notice that the set ID matches the template ID, and the Information Elements in the Template appear in the same order as the fields in the Data Records in the Message; this is how IPFIX handles self-description.\n",
      "\n",
      "Templates are persistent within a session; subsequent messages can refer to templates sent in previous messages:"
     ]
    },
    {
     "cell_type": "code",
     "collapsed": false,
     "input": [
      "msg.begin_export(8304)\n",
      "msg.export_new_set(261)\n",
      "msg.export_namedict({ 'flowStartMilliseconds':    iso8601('2012-10-22 09:30:01.912000'),\n",
      "                      'flowEndMilliseconds':      iso8601('2012-10-22 09:31:15.009000'),\n",
      "                      'sourceIPv4Address':        ip_address('192.0.2.212'),\n",
      "                      'destinationIPv4Address':   ip_address('192.0.2.11'),\n",
      "                      'sourceTransportPort':      80,\n",
      "                      'destinationTransportPort': 32801,\n",
      "                      'protocolIdentifier':       6,\n",
      "                      'packetDeltaCount':         83,\n",
      "                      'octetDeltaCount':          97501})\n",
      "msg.export_namedict({ 'flowStartMilliseconds':    iso8601('2012-10-22 09:30:08.182000'),\n",
      "                      'flowEndMilliseconds':      iso8601('2012-10-22 09:31:16.012000'),\n",
      "                      'sourceIPv4Address':        ip_address('192.0.2.212'),\n",
      "                      'destinationIPv4Address':   ip_address('192.0.2.11'),\n",
      "                      'sourceTransportPort':      80,\n",
      "                      'destinationTransportPort': 32802,\n",
      "                      'protocolIdentifier':       6,\n",
      "                      'packetDeltaCount':         99,\n",
      "                      'octetDeltaCount':          136172})\n",
      "draw_message(msg)"
     ],
     "language": "python",
     "metadata": {},
     "outputs": [
      {
       "metadata": {},
       "output_type": "pyout",
       "prompt_number": 5,
       "svg": [
        "<svg baseProfile=\"full\" height=\"930\" version=\"1.1\" width=\"450\" xmlns=\"http://www.w3.org/2000/svg\" xmlns:ev=\"http://www.w3.org/2001/xml-events\" xmlns:xlink=\"http://www.w3.org/1999/xlink\"><defs><g font-size=\"17\" id=\"v3i1wr330jqwtnqe\"><text style=\"text-anchor: right; dominant-baseline: hanging;\" x=\"72.0\" y=\"0\">0</text><text style=\"text-anchor: right; dominant-baseline: hanging;\" x=\"162.0\" y=\"0\">1</text><text style=\"text-anchor: right; dominant-baseline: hanging;\" x=\"252.0\" y=\"0\">2</text><text style=\"text-anchor: right; dominant-baseline: hanging;\" x=\"342.0\" y=\"0\">3</text></g><g font-size=\"17\" id=\"mazku4pmwuhiq4md\"><text style=\"text-anchor: left; dominant-baseline: hanging;\" x=\"0\" y=\"0\">0x0</text><text style=\"text-anchor: left; dominant-baseline: hanging;\" x=\"0\" y=\"30\">0x4</text><text style=\"text-anchor: left; dominant-baseline: hanging;\" x=\"0\" y=\"60\">0x8</text><text style=\"text-anchor: left; dominant-baseline: hanging;\" x=\"0\" y=\"90\">0xc</text><text style=\"text-anchor: left; dominant-baseline: hanging;\" x=\"0\" y=\"120\">0x10</text><text style=\"text-anchor: left; dominant-baseline: hanging;\" x=\"0\" y=\"150\">0x14</text><text style=\"text-anchor: left; dominant-baseline: hanging;\" x=\"0\" y=\"180\">0x18</text><text style=\"text-anchor: left; dominant-baseline: hanging;\" x=\"0\" y=\"210\">0x1c</text><text style=\"text-anchor: left; dominant-baseline: hanging;\" x=\"0\" y=\"240\">0x20</text><text style=\"text-anchor: left; dominant-baseline: hanging;\" x=\"0\" y=\"270\">0x24</text><text style=\"text-anchor: left; dominant-baseline: hanging;\" x=\"0\" y=\"300\">0x28</text><text style=\"text-anchor: left; dominant-baseline: hanging;\" x=\"0\" y=\"330\">0x2c</text><text style=\"text-anchor: left; dominant-baseline: hanging;\" x=\"0\" y=\"360\">0x30</text><text style=\"text-anchor: left; dominant-baseline: hanging;\" x=\"0\" y=\"390\">0x31</text><text style=\"text-anchor: left; dominant-baseline: hanging;\" x=\"0\" y=\"420\">0x35</text><text style=\"text-anchor: left; dominant-baseline: hanging;\" x=\"0\" y=\"450\">0x39</text><text style=\"text-anchor: left; dominant-baseline: hanging;\" x=\"0\" y=\"480\">0x3d</text><text style=\"text-anchor: left; dominant-baseline: hanging;\" x=\"0\" y=\"510\">0x41</text><text style=\"text-anchor: left; dominant-baseline: hanging;\" x=\"0\" y=\"540\">0x45</text><text style=\"text-anchor: left; dominant-baseline: hanging;\" x=\"0\" y=\"570\">0x49</text><text style=\"text-anchor: left; dominant-baseline: hanging;\" x=\"0\" y=\"600\">0x4d</text><text style=\"text-anchor: left; dominant-baseline: hanging;\" x=\"0\" y=\"630\">0x51</text><text style=\"text-anchor: left; dominant-baseline: hanging;\" x=\"0\" y=\"660\">0x55</text><text style=\"text-anchor: left; dominant-baseline: hanging;\" x=\"0\" y=\"690\">0x59</text><text style=\"text-anchor: left; dominant-baseline: hanging;\" x=\"0\" y=\"720\">0x5d</text><text style=\"text-anchor: left; dominant-baseline: hanging;\" x=\"0\" y=\"750\">0x5e</text><text style=\"text-anchor: left; dominant-baseline: hanging;\" x=\"0\" y=\"780\">0x62</text><text style=\"text-anchor: left; dominant-baseline: hanging;\" x=\"0\" y=\"810\">0x66</text><text style=\"text-anchor: left; dominant-baseline: hanging;\" x=\"0\" y=\"840\">0x6a</text><text style=\"text-anchor: left; dominant-baseline: hanging;\" x=\"0\" y=\"870\">0x6e</text></g><g id=\"boxes-54tz8mqcu27cb32s\" stroke=\"black\" stroke-width=\"2\"><rect fill=\"rgb(255,216,216)\" height=\"30\" width=\"180\" x=\"0\" y=\"0\"/><rect fill=\"rgb(255,216,216)\" height=\"30\" width=\"180\" x=\"180\" y=\"0\"/><rect fill=\"rgb(255,216,216)\" height=\"30\" width=\"360\" x=\"0\" y=\"30\"/><rect fill=\"rgb(255,216,216)\" height=\"30\" width=\"360\" x=\"0\" y=\"60\"/><rect fill=\"rgb(255,216,216)\" height=\"30\" width=\"360\" x=\"0\" y=\"90\"/><rect fill=\"rgb(240,192,216)\" height=\"30\" width=\"180\" x=\"0\" y=\"120\"/><rect fill=\"rgb(240,192,216)\" height=\"30\" width=\"180\" x=\"180\" y=\"120\"/><rect fill=\"rgb(255,255,216)\" height=\"60.0\" width=\"360\" x=\"0\" y=\"150\"/><rect fill=\"rgb(255,255,216)\" height=\"60.0\" width=\"360\" x=\"0\" y=\"210\"/><rect fill=\"rgb(255,255,216)\" height=\"30\" width=\"360\" x=\"0\" y=\"270\"/><rect fill=\"rgb(255,255,216)\" height=\"30\" width=\"360\" x=\"0\" y=\"300\"/><rect fill=\"rgb(255,255,216)\" height=\"30\" width=\"180\" x=\"0\" y=\"330\"/><rect fill=\"rgb(255,255,216)\" height=\"30\" width=\"180\" x=\"180\" y=\"330\"/><rect fill=\"rgb(255,255,216)\" height=\"30\" width=\"90\" x=\"0\" y=\"360\"/><rect fill=\"rgb(255,255,216)\" height=\"60.0\" width=\"360\" x=\"0\" y=\"390\"/><rect fill=\"rgb(255,255,216)\" height=\"60.0\" width=\"360\" x=\"0\" y=\"450\"/><rect fill=\"rgb(216,255,216)\" height=\"60.0\" width=\"360\" x=\"0\" y=\"510\"/><rect fill=\"rgb(216,255,216)\" height=\"60.0\" width=\"360\" x=\"0\" y=\"570\"/><rect fill=\"rgb(216,255,216)\" height=\"30\" width=\"360\" x=\"0\" y=\"630\"/><rect fill=\"rgb(216,255,216)\" height=\"30\" width=\"360\" x=\"0\" y=\"660\"/><rect fill=\"rgb(216,255,216)\" height=\"30\" width=\"180\" x=\"0\" y=\"690\"/><rect fill=\"rgb(216,255,216)\" height=\"30\" width=\"180\" x=\"180\" y=\"690\"/><rect fill=\"rgb(216,255,216)\" height=\"30\" width=\"90\" x=\"0\" y=\"720\"/><rect fill=\"rgb(216,255,216)\" height=\"60.0\" width=\"360\" x=\"0\" y=\"750\"/><rect fill=\"rgb(216,255,216)\" height=\"60.0\" width=\"360\" x=\"0\" y=\"810\"/></g><g font-size=\"15\" id=\"text-54tz8mqcu27cb32s\"><text style=\"text-anchor: middle; dominant-baseline: hanging;\" x=\"90.0\" y=\"15.0\">Version: 10</text><text style=\"text-anchor: middle; dominant-baseline: hanging;\" x=\"270.0\" y=\"15.0\">Length: 110</text><text style=\"text-anchor: middle; dominant-baseline: hanging;\" x=\"180.0\" y=\"45.0\">Export Time: 2014-07-08 13:48:18.000000 </text><text style=\"text-anchor: middle; dominant-baseline: hanging;\" x=\"180.0\" y=\"75.0\">Sequence: 1</text><text style=\"text-anchor: middle; dominant-baseline: hanging;\" x=\"180.0\" y=\"105.0\">Observation Domain: 8304</text><text style=\"text-anchor: middle; dominant-baseline: hanging;\" x=\"90.0\" y=\"135.0\">Set ID: 261</text><text style=\"text-anchor: middle; dominant-baseline: hanging;\" x=\"270.0\" y=\"135.0\">Set Length: 94</text><text style=\"text-anchor: middle; dominant-baseline: hanging;\" x=\"180.0\" y=\"180.0\">flowStar...iseconds: 2012-10-22 09:30:01.911999 </text><text style=\"text-anchor: middle; dominant-baseline: hanging;\" x=\"180.0\" y=\"240.0\">flowEndMilliseconds: 2012-10-22 09:31:15.009000 </text><text style=\"text-anchor: middle; dominant-baseline: hanging;\" x=\"180.0\" y=\"285.0\">sourceIPv4Address: 192.0.2.212</text><text style=\"text-anchor: middle; dominant-baseline: hanging;\" x=\"180.0\" y=\"315.0\">destinat...4Address: 192.0.2.11</text><text style=\"text-anchor: middle; dominant-baseline: hanging;\" x=\"90.0\" y=\"345.0\">sourceTr...Port: 80</text><text style=\"text-anchor: middle; dominant-baseline: hanging;\" x=\"270.0\" y=\"345.0\">destinat...Port: 32801</text><text style=\"text-anchor: middle; dominant-baseline: hanging;\" x=\"45.0\" y=\"375.0\">prot...fier: 6</text><text style=\"text-anchor: middle; dominant-baseline: hanging;\" x=\"180.0\" y=\"420.0\">octetDeltaCount: 97501</text><text style=\"text-anchor: middle; dominant-baseline: hanging;\" x=\"180.0\" y=\"480.0\">packetDeltaCount: 83</text><text style=\"text-anchor: middle; dominant-baseline: hanging;\" x=\"180.0\" y=\"540.0\">flowStar...iseconds: 2012-10-22 09:30:08.181999 </text><text style=\"text-anchor: middle; dominant-baseline: hanging;\" x=\"180.0\" y=\"600.0\">flowEndMilliseconds: 2012-10-22 09:31:16.012000 </text><text style=\"text-anchor: middle; dominant-baseline: hanging;\" x=\"180.0\" y=\"645.0\">sourceIPv4Address: 192.0.2.212</text><text style=\"text-anchor: middle; dominant-baseline: hanging;\" x=\"180.0\" y=\"675.0\">destinat...4Address: 192.0.2.11</text><text style=\"text-anchor: middle; dominant-baseline: hanging;\" x=\"90.0\" y=\"705.0\">sourceTr...Port: 80</text><text style=\"text-anchor: middle; dominant-baseline: hanging;\" x=\"270.0\" y=\"705.0\">destinat...Port: 32802</text><text style=\"text-anchor: middle; dominant-baseline: hanging;\" x=\"45.0\" y=\"735.0\">prot...fier: 6</text><text style=\"text-anchor: middle; dominant-baseline: hanging;\" x=\"180.0\" y=\"780.0\">octetDeltaCount: 136172</text><text style=\"text-anchor: middle; dominant-baseline: hanging;\" x=\"180.0\" y=\"840.0\">packetDeltaCount: 99</text></g></defs><use x=\"90\" xlink:href=\"#v3i1wr330jqwtnqe\" y=\"0\"/><use x=\"0\" xlink:href=\"#mazku4pmwuhiq4md\" y=\"15.0\"/><use x=\"90\" xlink:href=\"#boxes-54tz8mqcu27cb32s\" y=\"15.0\"/><use x=\"90\" xlink:href=\"#text-54tz8mqcu27cb32s\" y=\"15.0\"/></svg>"
       ],
       "text": [
        "<IPython.core.display.SVG at 0x10830d668>"
       ]
      }
     ],
     "prompt_number": 5
    },
    {
     "cell_type": "markdown",
     "metadata": {},
     "source": [
      "To see how IPFIX encodes reduced-length and variable-length IEs, let's define a new template including the 802.11 SSID, encoded as a UTF-8 string. Here, note that the octetDeltaCount and packetDeltaCount IEs are exported using 4 bytes instead of the native 8, as well, to illustrate reduced-length encoding."
     ]
    },
    {
     "cell_type": "code",
     "collapsed": false,
     "input": [
      "vtmpl = ipfix.template.for_specs(262, \"flowStartMilliseconds\", \n",
      "                                      \"flowEndMilliseconds\", \n",
      "                                      \"sourceIPv6Address\", \n",
      "                                      \"destinationIPv6Address\",\n",
      "                                      \"octetDeltaCount[4]\", \n",
      "                                      \"packetDeltaCount[4]\",\n",
      "                                      \"wlanSSID\")\n",
      "msg.begin_export(8304)\n",
      "msg.add_template(vtmpl)\n",
      "msg.export_new_set(262)\n",
      "msg.export_namedict({'flowStartMilliseconds':    iso8601('2012-10-22 09:31:54.903000'),\n",
      "                     'flowEndMilliseconds':      iso8601('2012-10-22 09:41:52.627000'),\n",
      "                     'sourceIPv6Address':        ip_address('2001:db8:c0:ffee::2'),\n",
      "                     'destinationIPv6Address':   ip_address('2001:bd8:b:ea75::3'),\n",
      "                     'packetDeltaCount':         212,\n",
      "                     'octetDeltaCount':          553290,\n",
      "                     'wlanSSID':                 'ietf-a-v6only'})\n",
      "draw_message(msg)"
     ],
     "language": "python",
     "metadata": {},
     "outputs": [
      {
       "metadata": {},
       "output_type": "pyout",
       "prompt_number": 6,
       "svg": [
        "<svg baseProfile=\"full\" height=\"1020\" version=\"1.1\" width=\"450\" xmlns=\"http://www.w3.org/2000/svg\" xmlns:ev=\"http://www.w3.org/2001/xml-events\" xmlns:xlink=\"http://www.w3.org/1999/xlink\"><defs><g font-size=\"17\" id=\"8zpllr4mlndmosll\"><text style=\"text-anchor: right; dominant-baseline: hanging;\" x=\"72.0\" y=\"0\">0</text><text style=\"text-anchor: right; dominant-baseline: hanging;\" x=\"162.0\" y=\"0\">1</text><text style=\"text-anchor: right; dominant-baseline: hanging;\" x=\"252.0\" y=\"0\">2</text><text style=\"text-anchor: right; dominant-baseline: hanging;\" x=\"342.0\" y=\"0\">3</text></g><g font-size=\"17\" id=\"paqrjtnw8onu6qqv\"><text style=\"text-anchor: left; dominant-baseline: hanging;\" x=\"0\" y=\"0\">0x0</text><text style=\"text-anchor: left; dominant-baseline: hanging;\" x=\"0\" y=\"30\">0x4</text><text style=\"text-anchor: left; dominant-baseline: hanging;\" x=\"0\" y=\"60\">0x8</text><text style=\"text-anchor: left; dominant-baseline: hanging;\" x=\"0\" y=\"90\">0xc</text><text style=\"text-anchor: left; dominant-baseline: hanging;\" x=\"0\" y=\"120\">0x10</text><text style=\"text-anchor: left; dominant-baseline: hanging;\" x=\"0\" y=\"150\">0x14</text><text style=\"text-anchor: left; dominant-baseline: hanging;\" x=\"0\" y=\"180\">0x18</text><text style=\"text-anchor: left; dominant-baseline: hanging;\" x=\"0\" y=\"210\">0x1c</text><text style=\"text-anchor: left; dominant-baseline: hanging;\" x=\"0\" y=\"240\">0x20</text><text style=\"text-anchor: left; dominant-baseline: hanging;\" x=\"0\" y=\"270\">0x24</text><text style=\"text-anchor: left; dominant-baseline: hanging;\" x=\"0\" y=\"300\">0x28</text><text style=\"text-anchor: left; dominant-baseline: hanging;\" x=\"0\" y=\"330\">0x2c</text><text style=\"text-anchor: left; dominant-baseline: hanging;\" x=\"0\" y=\"360\">0x30</text><text style=\"text-anchor: left; dominant-baseline: hanging;\" x=\"0\" y=\"390\">0x34</text><text style=\"text-anchor: left; dominant-baseline: hanging;\" x=\"0\" y=\"420\">0x38</text><text style=\"text-anchor: left; dominant-baseline: hanging;\" x=\"0\" y=\"450\">0x3c</text><text style=\"text-anchor: left; dominant-baseline: hanging;\" x=\"0\" y=\"480\">0x40</text><text style=\"text-anchor: left; dominant-baseline: hanging;\" x=\"0\" y=\"510\">0x44</text><text style=\"text-anchor: left; dominant-baseline: hanging;\" x=\"0\" y=\"540\">0x48</text><text style=\"text-anchor: left; dominant-baseline: hanging;\" x=\"0\" y=\"570\">0x4c</text><text style=\"text-anchor: left; dominant-baseline: hanging;\" x=\"0\" y=\"600\">0x50</text><text style=\"text-anchor: left; dominant-baseline: hanging;\" x=\"0\" y=\"630\">0x54</text><text style=\"text-anchor: left; dominant-baseline: hanging;\" x=\"0\" y=\"660\">0x58</text><text style=\"text-anchor: left; dominant-baseline: hanging;\" x=\"0\" y=\"690\">0x5c</text><text style=\"text-anchor: left; dominant-baseline: hanging;\" x=\"0\" y=\"720\">0x60</text><text style=\"text-anchor: left; dominant-baseline: hanging;\" x=\"0\" y=\"750\">0x64</text><text style=\"text-anchor: left; dominant-baseline: hanging;\" x=\"0\" y=\"780\">0x68</text><text style=\"text-anchor: left; dominant-baseline: hanging;\" x=\"0\" y=\"810\">0x6c</text><text style=\"text-anchor: left; dominant-baseline: hanging;\" x=\"0\" y=\"840\">0x70</text><text style=\"text-anchor: left; dominant-baseline: hanging;\" x=\"0\" y=\"870\">0x71</text><text style=\"text-anchor: left; dominant-baseline: hanging;\" x=\"0\" y=\"900\">0x75</text><text style=\"text-anchor: left; dominant-baseline: hanging;\" x=\"0\" y=\"930\">0x79</text><text style=\"text-anchor: left; dominant-baseline: hanging;\" x=\"0\" y=\"960\">0x7d</text></g><g id=\"boxes-x4tzqchyg2kg3u57\" stroke=\"black\" stroke-width=\"2\"><rect fill=\"rgb(255,216,216)\" height=\"30\" width=\"180\" x=\"0\" y=\"0\"/><rect fill=\"rgb(255,216,216)\" height=\"30\" width=\"180\" x=\"180\" y=\"0\"/><rect fill=\"rgb(255,216,216)\" height=\"30\" width=\"360\" x=\"0\" y=\"30\"/><rect fill=\"rgb(255,216,216)\" height=\"30\" width=\"360\" x=\"0\" y=\"60\"/><rect fill=\"rgb(255,216,216)\" height=\"30\" width=\"360\" x=\"0\" y=\"90\"/><rect fill=\"rgb(240,192,216)\" height=\"30\" width=\"180\" x=\"0\" y=\"120\"/><rect fill=\"rgb(240,192,216)\" height=\"30\" width=\"180\" x=\"180\" y=\"120\"/><rect fill=\"rgb(224,224,255)\" height=\"30\" width=\"180\" x=\"0\" y=\"150\"/><rect fill=\"rgb(224,224,255)\" height=\"30\" width=\"180\" x=\"180\" y=\"150\"/><rect fill=\"rgb(224,224,255)\" height=\"30\" width=\"180\" x=\"0\" y=\"180\"/><rect fill=\"rgb(224,224,255)\" height=\"30\" width=\"180\" x=\"180\" y=\"180\"/><rect fill=\"rgb(224,224,255)\" height=\"30\" width=\"180\" x=\"0\" y=\"210\"/><rect fill=\"rgb(224,224,255)\" height=\"30\" width=\"180\" x=\"180\" y=\"210\"/><rect fill=\"rgb(224,224,255)\" height=\"30\" width=\"180\" x=\"0\" y=\"240\"/><rect fill=\"rgb(224,224,255)\" height=\"30\" width=\"180\" x=\"180\" y=\"240\"/><rect fill=\"rgb(224,224,255)\" height=\"30\" width=\"180\" x=\"0\" y=\"270\"/><rect fill=\"rgb(224,224,255)\" height=\"30\" width=\"180\" x=\"180\" y=\"270\"/><rect fill=\"rgb(224,224,255)\" height=\"30\" width=\"180\" x=\"0\" y=\"300\"/><rect fill=\"rgb(224,224,255)\" height=\"30\" width=\"180\" x=\"180\" y=\"300\"/><rect fill=\"rgb(224,224,255)\" height=\"30\" width=\"180\" x=\"0\" y=\"330\"/><rect fill=\"rgb(224,224,255)\" height=\"30\" width=\"180\" x=\"180\" y=\"330\"/><rect fill=\"rgb(224,224,255)\" height=\"30\" width=\"180\" x=\"0\" y=\"360\"/><rect fill=\"rgb(224,224,255)\" height=\"30\" width=\"180\" x=\"180\" y=\"360\"/><rect fill=\"rgb(240,192,216)\" height=\"30\" width=\"180\" x=\"0\" y=\"390\"/><rect fill=\"rgb(240,192,216)\" height=\"30\" width=\"180\" x=\"180\" y=\"390\"/><rect fill=\"rgb(255,255,216)\" height=\"60.0\" width=\"360\" x=\"0\" y=\"420\"/><rect fill=\"rgb(255,255,216)\" height=\"60.0\" width=\"360\" x=\"0\" y=\"480\"/><rect fill=\"rgb(255,255,216)\" height=\"120.0\" width=\"360\" x=\"0\" y=\"540\"/><rect fill=\"rgb(255,255,216)\" height=\"120.0\" width=\"360\" x=\"0\" y=\"660\"/><rect fill=\"rgb(255,255,216)\" height=\"30\" width=\"360\" x=\"0\" y=\"780\"/><rect fill=\"rgb(255,255,216)\" height=\"30\" width=\"360\" x=\"0\" y=\"810\"/><rect fill=\"rgb(255,255,216)\" height=\"30\" width=\"90\" x=\"0\" y=\"840\"/><polyline fill=\"rgb(255,255,216)\" points=\"0,870 360,870 360,960 90,960 90,990 0,990 0,870\"/></g><g font-size=\"15\" id=\"text-x4tzqchyg2kg3u57\"><text style=\"text-anchor: middle; dominant-baseline: hanging;\" x=\"90.0\" y=\"15.0\">Version: 10</text><text style=\"text-anchor: middle; dominant-baseline: hanging;\" x=\"270.0\" y=\"15.0\">Length: 126</text><text style=\"text-anchor: middle; dominant-baseline: hanging;\" x=\"180.0\" y=\"45.0\">Export Time: 2014-07-08 13:48:20.000000 </text><text style=\"text-anchor: middle; dominant-baseline: hanging;\" x=\"180.0\" y=\"75.0\">Sequence: 3</text><text style=\"text-anchor: middle; dominant-baseline: hanging;\" x=\"180.0\" y=\"105.0\">Observation Domain: 8304</text><text style=\"text-anchor: middle; dominant-baseline: hanging;\" x=\"90.0\" y=\"135.0\">Set ID: 2</text><text style=\"text-anchor: middle; dominant-baseline: hanging;\" x=\"270.0\" y=\"135.0\">Set Length: 36</text><text style=\"text-anchor: middle; dominant-baseline: hanging;\" x=\"90.0\" y=\"165.0\">ID: 262</text><text style=\"text-anchor: middle; dominant-baseline: hanging;\" x=\"270.0\" y=\"165.0\">Count: 7</text><text style=\"text-anchor: middle; dominant-baseline: hanging;\" x=\"90.0\" y=\"195.0\">IE: flowSt...onds(152)</text><text style=\"text-anchor: middle; dominant-baseline: hanging;\" x=\"270.0\" y=\"195.0\">Len: 8</text><text style=\"text-anchor: middle; dominant-baseline: hanging;\" x=\"90.0\" y=\"225.0\">IE: flowEn...onds(153)</text><text style=\"text-anchor: middle; dominant-baseline: hanging;\" x=\"270.0\" y=\"225.0\">Len: 8</text><text style=\"text-anchor: middle; dominant-baseline: hanging;\" x=\"90.0\" y=\"255.0\">IE: source...ress(27)</text><text style=\"text-anchor: middle; dominant-baseline: hanging;\" x=\"270.0\" y=\"255.0\">Len: 16</text><text style=\"text-anchor: middle; dominant-baseline: hanging;\" x=\"90.0\" y=\"285.0\">IE: destin...ress(28)</text><text style=\"text-anchor: middle; dominant-baseline: hanging;\" x=\"270.0\" y=\"285.0\">Len: 16</text><text style=\"text-anchor: middle; dominant-baseline: hanging;\" x=\"90.0\" y=\"315.0\">IE: octetD...ount(1)</text><text style=\"text-anchor: middle; dominant-baseline: hanging;\" x=\"270.0\" y=\"315.0\">Len: 4</text><text style=\"text-anchor: middle; dominant-baseline: hanging;\" x=\"90.0\" y=\"345.0\">IE: packet...ount(2)</text><text style=\"text-anchor: middle; dominant-baseline: hanging;\" x=\"270.0\" y=\"345.0\">Len: 4</text><text style=\"text-anchor: middle; dominant-baseline: hanging;\" x=\"90.0\" y=\"375.0\">IE: wlanSSID(147)</text><text style=\"text-anchor: middle; dominant-baseline: hanging;\" x=\"270.0\" y=\"375.0\">Len: 65535</text><text style=\"text-anchor: middle; dominant-baseline: hanging;\" x=\"90.0\" y=\"405.0\">Set ID: 262</text><text style=\"text-anchor: middle; dominant-baseline: hanging;\" x=\"270.0\" y=\"405.0\">Set Length: 74</text><text style=\"text-anchor: middle; dominant-baseline: hanging;\" x=\"180.0\" y=\"450.0\">flowStar...iseconds: 2012-10-22 09:31:54.903000 </text><text style=\"text-anchor: middle; dominant-baseline: hanging;\" x=\"180.0\" y=\"510.0\">flowEndMilliseconds: 2012-10-22 09:41:52.627000 </text><text style=\"text-anchor: middle; dominant-baseline: hanging;\" x=\"180.0\" y=\"600.0\">sourceIPv6Address: 2001:db8:c0:ffee::2</text><text style=\"text-anchor: middle; dominant-baseline: hanging;\" x=\"180.0\" y=\"720.0\">destinat...6Address: 2001:bd8:b:ea75::3</text><text style=\"text-anchor: middle; dominant-baseline: hanging;\" x=\"180.0\" y=\"795.0\">octetDeltaCount: 553290</text><text style=\"text-anchor: middle; dominant-baseline: hanging;\" x=\"180.0\" y=\"825.0\">packetDeltaCount: 212</text><text style=\"text-anchor: middle; dominant-baseline: hanging;\" x=\"45.0\" y=\"855.0\">varlen: 13</text><text style=\"text-anchor: middle; dominant-baseline: hanging;\" x=\"180.0\" y=\"915.0\">wlanSSID: ietf-a-v6only</text></g></defs><use x=\"90\" xlink:href=\"#8zpllr4mlndmosll\" y=\"0\"/><use x=\"0\" xlink:href=\"#paqrjtnw8onu6qqv\" y=\"15.0\"/><use x=\"90\" xlink:href=\"#boxes-x4tzqchyg2kg3u57\" y=\"15.0\"/><use x=\"90\" xlink:href=\"#text-x4tzqchyg2kg3u57\" y=\"15.0\"/></svg>"
       ],
       "text": [
        "<IPython.core.display.SVG at 0x1081a3a90>"
       ]
      }
     ],
     "prompt_number": 6
    },
    {
     "cell_type": "markdown",
     "metadata": {},
     "source": [
      "Here we see the octetDeltaCount and PacketDeltaCount fields taking up only 4 as opposed to 8 bytes. In addition, note that the wlanSSID field is prefixed with a `varlen` byte, counting the number of subsequent bytes containing the value. IPFIX uses this length-prefixing since no delimiter can be guaranteed never to appear in a variable-length binary value.\n",
      "\n",
      "## Beyond Flow Export\n",
      "\n",
      "So far, we've explored the use of IPFIX for flow export; however, the protocol is useful for any application to which the following applies:\n",
      "\n",
      "- The application's data flow is fundamentally unidirectional. IPFIX is a \"push\" protocol, supporting only the export of information from a sender (an Exporting Process) to a receiver (a Collecting Process).  Request-response interactions are not supported by IPFIX.\n",
      "- The application handles discrete event information, or information to be periodically reported.  IPFIX is particularly well suited to representing events, which can be scoped in time.\n",
      "- The application handles information about network entities. IPFIX's information model is network-oriented, so network management applications have many opportunities for information model reuse.\n",
      "- The application requires a small number of arrangements of data structures relative to the number of records it handles.  The template-driven self-description mechanism used by IPFIX excels at handling large volumes of identically structured data, compared to representations which define structure inline with data (such as XML).\n",
      "\n",
      "To take an example, let's use IPFIX to solve a common problem during meetings, conferences, and classes: meeting room temperature. Let's say we have a table of observation point identifiers to meeting room names, and use IPFIX to periodically export ambient temperature information for a given machine. In an ideal world, we'd write a proper description for the Information Element and send it to the Internet Assigned Numbers Authority (IANA), the body that maintains the Information Element Registry, as follows:\n",
      "\n",
      "```\n",
      "Name: ambientTemperatureCelsius\n",
      "Description: The ambient temperature measured in the environment. \n",
      "             May be associated with an Observation Point or a Metering Process; \n",
      "             otherwise, taken to be the ambient temperature in the environment \n",
      "             of the Exporting Process.\n",
      "Abstract Data Type: float32\n",
      "Units: degrees Celsius\n",
      "Range: -273.15 - +infinity\n",
      "```\n",
      "\n",
      "But this is just a two hour tutorial, so we'll define a new **enterprise-specific IE** instead:"
     ]
    },
    {
     "cell_type": "code",
     "collapsed": false,
     "input": [
      "ipfix.ie.for_spec(\"ambientTemperatureCelsius(35566/2)<float32>[4]\")"
     ],
     "language": "python",
     "metadata": {},
     "outputs": [
      {
       "metadata": {},
       "output_type": "pyout",
       "prompt_number": 7,
       "text": [
        "InformationElement('ambientTemperatureCelsius', 35566, 2, ipfix.types.for_name('float32'), 4)"
       ]
      }
     ],
     "prompt_number": 7
    },
    {
     "cell_type": "markdown",
     "metadata": {},
     "source": [
      "And now, as above, a template, a record, and a message:"
     ]
    },
    {
     "cell_type": "code",
     "collapsed": false,
     "input": [
      "ttmpl = ipfix.template.for_specs(263, \"observationTimeMilliseconds\", \n",
      "                                      \"observationPointId[4]\",\n",
      "                                      \"ambientTemperatureCelsius\")\n",
      "msg = ipfix.message.MessageBuffer()\n",
      "msg.begin_export(8304)\n",
      "msg.add_template(ttmpl)\n",
      "msg.export_new_set(263)\n",
      "msg.export_namedict({'observationTimeMilliseconds': datetime.utcnow(),\n",
      "                     'observationPointId':          1,\n",
      "                     'ambientTemperatureCelsius':   22.3})\n",
      "draw_message(msg)"
     ],
     "language": "python",
     "metadata": {},
     "outputs": [
      {
       "metadata": {},
       "output_type": "pyout",
       "prompt_number": 8,
       "svg": [
        "<svg baseProfile=\"full\" height=\"480\" version=\"1.1\" width=\"450\" xmlns=\"http://www.w3.org/2000/svg\" xmlns:ev=\"http://www.w3.org/2001/xml-events\" xmlns:xlink=\"http://www.w3.org/1999/xlink\"><defs><g font-size=\"17\" id=\"m4ohwfhyeeeidcxq\"><text style=\"text-anchor: right; dominant-baseline: hanging;\" x=\"72.0\" y=\"0\">0</text><text style=\"text-anchor: right; dominant-baseline: hanging;\" x=\"162.0\" y=\"0\">1</text><text style=\"text-anchor: right; dominant-baseline: hanging;\" x=\"252.0\" y=\"0\">2</text><text style=\"text-anchor: right; dominant-baseline: hanging;\" x=\"342.0\" y=\"0\">3</text></g><g font-size=\"17\" id=\"j7j2on344ub94c9v\"><text style=\"text-anchor: left; dominant-baseline: hanging;\" x=\"0\" y=\"0\">0x0</text><text style=\"text-anchor: left; dominant-baseline: hanging;\" x=\"0\" y=\"30\">0x4</text><text style=\"text-anchor: left; dominant-baseline: hanging;\" x=\"0\" y=\"60\">0x8</text><text style=\"text-anchor: left; dominant-baseline: hanging;\" x=\"0\" y=\"90\">0xc</text><text style=\"text-anchor: left; dominant-baseline: hanging;\" x=\"0\" y=\"120\">0x10</text><text style=\"text-anchor: left; dominant-baseline: hanging;\" x=\"0\" y=\"150\">0x14</text><text style=\"text-anchor: left; dominant-baseline: hanging;\" x=\"0\" y=\"180\">0x18</text><text style=\"text-anchor: left; dominant-baseline: hanging;\" x=\"0\" y=\"210\">0x1c</text><text style=\"text-anchor: left; dominant-baseline: hanging;\" x=\"0\" y=\"240\">0x20</text><text style=\"text-anchor: left; dominant-baseline: hanging;\" x=\"0\" y=\"270\">0x24</text><text style=\"text-anchor: left; dominant-baseline: hanging;\" x=\"0\" y=\"300\">0x28</text><text style=\"text-anchor: left; dominant-baseline: hanging;\" x=\"0\" y=\"330\">0x2c</text><text style=\"text-anchor: left; dominant-baseline: hanging;\" x=\"0\" y=\"360\">0x30</text><text style=\"text-anchor: left; dominant-baseline: hanging;\" x=\"0\" y=\"390\">0x34</text><text style=\"text-anchor: left; dominant-baseline: hanging;\" x=\"0\" y=\"420\">0x38</text></g><g id=\"boxes-48xgr4y7mlgexq6y\" stroke=\"black\" stroke-width=\"2\"><rect fill=\"rgb(255,216,216)\" height=\"30\" width=\"180\" x=\"0\" y=\"0\"/><rect fill=\"rgb(255,216,216)\" height=\"30\" width=\"180\" x=\"180\" y=\"0\"/><rect fill=\"rgb(255,216,216)\" height=\"30\" width=\"360\" x=\"0\" y=\"30\"/><rect fill=\"rgb(255,216,216)\" height=\"30\" width=\"360\" x=\"0\" y=\"60\"/><rect fill=\"rgb(255,216,216)\" height=\"30\" width=\"360\" x=\"0\" y=\"90\"/><rect fill=\"rgb(240,192,216)\" height=\"30\" width=\"180\" x=\"0\" y=\"120\"/><rect fill=\"rgb(240,192,216)\" height=\"30\" width=\"180\" x=\"180\" y=\"120\"/><rect fill=\"rgb(224,224,255)\" height=\"30\" width=\"180\" x=\"0\" y=\"150\"/><rect fill=\"rgb(224,224,255)\" height=\"30\" width=\"180\" x=\"180\" y=\"150\"/><rect fill=\"rgb(224,224,255)\" height=\"30\" width=\"180\" x=\"0\" y=\"180\"/><rect fill=\"rgb(224,224,255)\" height=\"30\" width=\"180\" x=\"180\" y=\"180\"/><rect fill=\"rgb(224,224,255)\" height=\"30\" width=\"180\" x=\"0\" y=\"210\"/><rect fill=\"rgb(224,224,255)\" height=\"30\" width=\"180\" x=\"180\" y=\"210\"/><rect fill=\"rgb(224,224,255)\" height=\"30\" width=\"180\" x=\"0\" y=\"240\"/><rect fill=\"rgb(224,224,255)\" height=\"30\" width=\"180\" x=\"180\" y=\"240\"/><rect fill=\"rgb(224,224,255)\" height=\"30\" width=\"360\" x=\"0\" y=\"270\"/><rect fill=\"rgb(240,192,216)\" height=\"30\" width=\"180\" x=\"0\" y=\"300\"/><rect fill=\"rgb(240,192,216)\" height=\"30\" width=\"180\" x=\"180\" y=\"300\"/><rect fill=\"rgb(255,255,216)\" height=\"60.0\" width=\"360\" x=\"0\" y=\"330\"/><rect fill=\"rgb(255,255,216)\" height=\"30\" width=\"360\" x=\"0\" y=\"390\"/><rect fill=\"rgb(255,255,216)\" height=\"30\" width=\"360\" x=\"0\" y=\"420\"/></g><g font-size=\"15\" id=\"text-48xgr4y7mlgexq6y\"><text style=\"text-anchor: middle; dominant-baseline: hanging;\" x=\"90.0\" y=\"15.0\">Version: 10</text><text style=\"text-anchor: middle; dominant-baseline: hanging;\" x=\"270.0\" y=\"15.0\">Length: 60</text><text style=\"text-anchor: middle; dominant-baseline: hanging;\" x=\"180.0\" y=\"45.0\">Export Time: 2014-07-08 13:48:23.000000 </text><text style=\"text-anchor: middle; dominant-baseline: hanging;\" x=\"180.0\" y=\"75.0\">Sequence: 0</text><text style=\"text-anchor: middle; dominant-baseline: hanging;\" x=\"180.0\" y=\"105.0\">Observation Domain: 8304</text><text style=\"text-anchor: middle; dominant-baseline: hanging;\" x=\"90.0\" y=\"135.0\">Set ID: 2</text><text style=\"text-anchor: middle; dominant-baseline: hanging;\" x=\"270.0\" y=\"135.0\">Set Length: 24</text><text style=\"text-anchor: middle; dominant-baseline: hanging;\" x=\"90.0\" y=\"165.0\">ID: 263</text><text style=\"text-anchor: middle; dominant-baseline: hanging;\" x=\"270.0\" y=\"165.0\">Count: 3</text><text style=\"text-anchor: middle; dominant-baseline: hanging;\" x=\"90.0\" y=\"195.0\">IE: observ...onds(323)</text><text style=\"text-anchor: middle; dominant-baseline: hanging;\" x=\"270.0\" y=\"195.0\">Len: 8</text><text style=\"text-anchor: middle; dominant-baseline: hanging;\" x=\"90.0\" y=\"225.0\">IE: observ...ntId(138)</text><text style=\"text-anchor: middle; dominant-baseline: hanging;\" x=\"270.0\" y=\"225.0\">Len: 4</text><text style=\"text-anchor: middle; dominant-baseline: hanging;\" x=\"90.0\" y=\"255.0\">IE: ambien...sius(32770)</text><text style=\"text-anchor: middle; dominant-baseline: hanging;\" x=\"270.0\" y=\"255.0\">Len: 4</text><text style=\"text-anchor: middle; dominant-baseline: hanging;\" x=\"180.0\" y=\"285.0\">PEN: 35566</text><text style=\"text-anchor: middle; dominant-baseline: hanging;\" x=\"90.0\" y=\"315.0\">Set ID: 263</text><text style=\"text-anchor: middle; dominant-baseline: hanging;\" x=\"270.0\" y=\"315.0\">Set Length: 20</text><text style=\"text-anchor: middle; dominant-baseline: hanging;\" x=\"180.0\" y=\"360.0\">observat...iseconds: 2014-07-08 13:48:23.489000 </text><text style=\"text-anchor: middle; dominant-baseline: hanging;\" x=\"180.0\" y=\"405.0\">observationPointId: 1</text><text style=\"text-anchor: middle; dominant-baseline: hanging;\" x=\"180.0\" y=\"435.0\">ambientT...eCelsius: 22.299999237060547</text></g></defs><use x=\"90\" xlink:href=\"#m4ohwfhyeeeidcxq\" y=\"0\"/><use x=\"0\" xlink:href=\"#j7j2on344ub94c9v\" y=\"15.0\"/><use x=\"90\" xlink:href=\"#boxes-48xgr4y7mlgexq6y\" y=\"15.0\"/><use x=\"90\" xlink:href=\"#text-48xgr4y7mlgexq6y\" y=\"15.0\"/></svg>"
       ],
       "text": [
        "<IPython.core.display.SVG at 0x1082fd588>"
       ]
      }
     ],
     "prompt_number": 8
    },
    {
     "cell_type": "markdown",
     "metadata": {},
     "source": [
      "Of course, physical measurements are more interesting if they're real. We've attached a cheap temperature-and-humidity sensor to a Raspberry Pi connected to the display laptop to demonstrate two things:\n",
      "\n",
      "1. IPFIX can be applied to any push-based event data export task, and\n",
      "2. the protocol itself is lightweight enough to implement anywhere you realistically have a TCP/IP stack.\n",
      "\n",
      "Here, we took an off-the-shelf user-space driver for the sensor attached to the GPIO pins, and added some C code to encode the result as IPFIX, attaching a static template and message header. This program doesn't even handle network communication; for that, we pipe its binary IPFIX output to nc, which acts as a TCP exporting process given an IPFIX message stream.\n",
      "\n",
      "This sensor handles relative humidity as well as temperature, so we'll need an IE for that, too:"
     ]
    },
    {
     "cell_type": "code",
     "collapsed": false,
     "input": [
      "ipfix.ie.for_spec(\"relativeHumidityPercent(35566/3)<float32>[4]\")"
     ],
     "language": "python",
     "metadata": {},
     "outputs": []
    },
    {
     "cell_type": "markdown",
     "metadata": {},
     "source": [
      "And now we'll need a way to collect from an external exporting process. Recall that the `ipfix` module only handles the data format and the information model, not the full protocol stack. Fortunately, the protocol's dynamics are relatively simple: IPFIX over TCP, for instance, contains the a stream of data more or less identical to what would be found in an IPFIX file. Therefore, we can use Python's `socketserver` module to build a quick and dirty IPFIX Collecting Process that draws SVG representations of the received messages and stores them for later display."
     ]
    },
    {
     "cell_type": "code",
     "collapsed": false,
     "input": [
      "import socketserver\n",
      "import ipfix.reader\n",
      "import threading\n",
      "\n",
      "msg_length = 512 # Maximum number of bytes per message to render\n",
      "svgbuf = []\n",
      "svgbuf_mtx = threading.Lock()\n",
      "\n",
      "class StreamRendererHandler(socketserver.StreamRequestHandler):\n",
      "    def handle(self):\n",
      "        global svgbuf\n",
      "        print(\"connection from \"+str(self.client_address)+\".\")\n",
      "        msr = ipfix.vis.MessageStreamRenderer(self.rfile, scale=(90,30), raster=4)\n",
      "\n",
      "        while True:\n",
      "            try:\n",
      "                svgbuf_mtx.acquire()\n",
      "                svgbuf.append(msr.render_next_message(msg_length))\n",
      "                svgbuf_mtx.release()\n",
      "            except:\n",
      "                break\n",
      "\n",
      "        print(\"connection from \"+str(self.client_address)+\" terminated.\")\n",
      "\n",
      "\n",
      "class ThreadingTCPServer(socketserver.ThreadingMixIn, socketserver.TCPServer):\n",
      "    pass\n",
      "\n",
      "srv = None # shut down old server, if any, through loss of reference\n",
      "srv = ThreadingTCPServer((\"\", 4739), StreamRendererHandler)\n",
      "srvt = threading.Thread(target=srv.serve_forever)\n",
      "srvt.daemon = True\n",
      "srvt.start()"
     ],
     "language": "python",
     "metadata": {},
     "outputs": []
    },
    {
     "cell_type": "markdown",
     "metadata": {},
     "source": [
      "*If you're not attending the course, and don't have a Raspberry Pi with the appropriate sensor attached, run the following code to simulate the connected device:*"
     ]
    },
    {
     "cell_type": "code",
     "collapsed": false,
     "input": [
      "%pushd ../raspi\n",
      "!./run_sim.sh localhost 4739\n",
      "%popd"
     ],
     "language": "python",
     "metadata": {},
     "outputs": []
    },
    {
     "cell_type": "markdown",
     "metadata": {},
     "source": [
      "Once we're done receiving messages, we can shut the server down:"
     ]
    },
    {
     "cell_type": "code",
     "collapsed": false,
     "input": [
      "srv.shutdown()"
     ],
     "language": "python",
     "metadata": {},
     "outputs": []
    },
    {
     "cell_type": "markdown",
     "metadata": {},
     "source": [
      "And now we can draw the messages buffered by the server:"
     ]
    },
    {
     "cell_type": "code",
     "collapsed": false,
     "input": [
      "SVG(svgbuf[0])"
     ],
     "language": "python",
     "metadata": {},
     "outputs": []
    },
    {
     "cell_type": "code",
     "collapsed": false,
     "input": [
      "SVG(svgbuf[1])"
     ],
     "language": "python",
     "metadata": {},
     "outputs": []
    },
    {
     "cell_type": "code",
     "collapsed": false,
     "input": [
      "SVG(svgbuf[2])"
     ],
     "language": "python",
     "metadata": {},
     "outputs": []
    },
    {
     "cell_type": "markdown",
     "metadata": {},
     "source": [
      "- - - - - -\n",
      "This notebook is &copy; 2013-2014 Brian Trammell, and is licensed under a [Creative Commons Attribution-ShareAlike 4.0 International License](http://creativecommons.org/licenses/by-sa/4.0/)."
     ]
    }
   ],
   "metadata": {}
  }
 ]
}