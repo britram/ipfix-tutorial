{
 "metadata": {
  "name": "",
  "signature": "sha256:a73dde237c2fdb02f2f65b7584698efe7ac934ff83c021d2ca0a9766c6c6d4f8"
 },
 "nbformat": 3,
 "nbformat_minor": 0,
 "worksheets": [
  {
   "cells": [
    {
     "cell_type": "markdown",
     "metadata": {},
     "source": [
      "# TCP Loss and Latency Measurement per Flow\n",
      "\n",
      "In this notebook, we'll use the QoF flow meter, Python `ipfix` module, and Pandas to explore passive measurement of TCP loss and latency, the applications that QoF was built for.\n",
      "\n",
      "The QoF command we used to create the trace used in this notebook is shown below:\n",
      "```\n",
      "[brian@magpie ~]$ qof --verbose --yaml qof-tcp-biflow.yaml --in mawi-0330-30min.pcap.gz \\\n",
      "                    | gzip > mawi-0330-30min-biflow.ipfix.gz\n",
      "[2014-06-23 16:00:19] qof 0.9.0 (\"Albula\") starting\n",
      "[2014-06-23 16:01:34] Processed 66397589 packets into 6044114 flows:\n",
      "[2014-06-23 16:01:34]   Mean flow rate 80708.40/s.\n",
      "[2014-06-23 16:01:34]   Mean packet rate 886621.76/s.\n",
      "[2014-06-23 16:01:34]   Virtual bandwidth 5456.9622 Mbps.\n",
      "[2014-06-23 16:01:34]   Maximum flow table size 159126.\n",
      "[2014-06-23 16:01:34]   579 flush events.\n",
      "[2014-06-23 16:01:34]   4453487 asymmetric/unidirectional flows detected (73.68%)\n",
      "[2014-06-23 16:01:34] Assembled 33813 fragments into 16810 packets:\n",
      "[2014-06-23 16:01:34]   Expired 26 incomplete fragmented packets. (0.00%)\n",
      "[2014-06-23 16:01:34]   Maximum fragment table size 23.\n",
      "[2014-06-23 16:01:34] Rejected 65101 packets during decode: (0.10%)\n",
      "[2014-06-23 16:01:34]   65101 due to incomplete headers: (0.10%)\n",
      "[2014-06-23 16:01:34]     52931 incomplete IPv6 extension headers. (0.08%)\n",
      "[2014-06-23 16:01:34]     12170 incomplete transport headers. (0.02%)\n",
      "[2014-06-23 16:01:34]     (Use a larger snaplen to reduce incomplete headers.)\n",
      "[2014-06-23 16:01:34] qof terminating\n",
      "```\n",
      "\n",
      "As with the flow introduction notebook, this notebook uses the [Pandas](http://pandas.pydata.org/) data analysis framework to explore a collection of flow data. So first, run the following code to set up the environment:"
     ]
    },
    {
     "cell_type": "code",
     "collapsed": false,
     "input": [
      "import ipfix\n",
      "import panfix\n",
      "import gzip\n",
      "import bz2\n",
      "\n",
      "import numpy as np\n",
      "import pandas as pd\n",
      "import matplotlib.pyplot as plt\n",
      "%matplotlib inline\n",
      "\n",
      "plt.rcParams['figure.figsize'] = (12, 6)\n",
      "\n",
      "ipfix.ie.use_iana_default()\n",
      "ipfix.ie.use_5103_default()         # since we're dealing with RFC 5103 biflows\n",
      "ipfix.ie.use_specfile(\"qof.iespec\") # to get the QoF enterprise Information Elements\n",
      "ipfix.types.use_integer_ipv4()"
     ],
     "language": "python",
     "metadata": {},
     "outputs": []
    },
    {
     "cell_type": "markdown",
     "metadata": {},
     "source": [
      "In contrast to the flow introduction notebook, here we're looking only at TCP *biflows*: flows for which information was seen in both directions, or, in other words, complete connections. We'll use a much longer list of IEs in our dataframe, as well, in order to examine performance-relevant parameters of TCP flows.\n",
      "\n",
      "By selecting biflow Information Elements and TCP-specific Information Elements, we're telling `panfix` to ignore all flows which don't contain these flags; this prefilters UDP and one-way flows, and leaves us with a much smaller set of flows to work with."
     ]
    },
    {
     "cell_type": "code",
     "collapsed": false,
     "input": [
      "# Set the name of the IPFIX file to work on here.\n",
      "ipfix_filename = \"../../mawi-0330-30min-biflow.ipfix.gz\"\n",
      "# change to gzip.open, bz2.open or open, as appropriate\n",
      "ipfix_file_fn = gzip.open\n",
      "# Change to None for no limit, or set a limit to reduce memory requirements\n",
      "ipfix_max_flows = 1000000\n",
      "\n",
      "df = panfix.dataframe_from_ipfix(ipfix_filename, (\n",
      "                                 \"flowStartMilliseconds\",           \"flowEndMilliseconds\", \n",
      "                                 \"sourceIPv4Address\",               \"sourceTransportPort\",\n",
      "                                 \"destinationIPv4Address\",          \"destinationTransportPort\", \n",
      "                                 \"protocolIdentifier\",              \"flowEndReason\",\n",
      "                                 \"octetDeltaCount\",                 \"packetDeltaCount\",\n",
      "                                 \"transportOctetDeltaCount\",        \"transportPacketDeltaCount\",\n",
      "                                 \"reverseOctetDeltaCount\",          \"reversePacketDeltaCount\",\n",
      "                                 \"reverseTransportOctetDeltaCount\", \"reverseTransportPacketDeltaCount\",\n",
      "                                 \"tcpSequenceCount\",         \"reverseTcpSequenceCount\", \n",
      "                                 \"tcpSequenceLossCount\",     \"reverseTcpSequenceLossCount\",\n",
      "                                 \"tcpSequenceJumpCount\",     \"reverseTcpSequenceJumpCount\",\n",
      "                                 \"tcpRetransmitCount\",       \"reverseTcpRetransmitCount\",\n",
      "                                 \"tcpLossEventCount\",        \"reverseTcpLossEventCount\",\n",
      "                                 \"minTcpRttMilliseconds\",    \"lastTcpRttMilliseconds\",\n",
      "                                 \"tcpRttSampleCount\"),\n",
      "                                 count=ipfix_max_flows,\n",
      "                                 open_fn=ipfix_file_fn)\n",
      "df = panfix.coerce_timestamps(df)\n",
      "df = panfix.derive_duration(df)\n",
      "print(\"Loaded \"+str(len(df))+\" flows.\")"
     ],
     "language": "python",
     "metadata": {},
     "outputs": []
    },
    {
     "cell_type": "markdown",
     "metadata": {},
     "source": [
      "## Measuring Observation Loss\n",
      "\n",
      "As discussed in the course (*Never Make the Mistake of Thinking You're Measuring What You Think You're Measuring, part one*), QoF observes the set of TCP sequence numbers to determine if packets were probably sent but not observed, and stores its estimation of the amount of *observation loss* per flow in terms of octets in the `tcpSequenceLossCount` and `reverseTcpSequenceLossCount` IEs.\n",
      "\n",
      "This can happen due to improperly designed or provisioned measurement infrastructure. In the case of the MAWI data, it primarily occurs due to QoF's decoder rejecting packets truncated by the snaplen used by the MAWI trace; from the QoF verbose output:\n",
      "```\n",
      "[2014-06-23 16:01:34]   Expired 26 incomplete fragmented packets. (0.00%)\n",
      "...\n",
      "[2014-06-23 16:01:34] Rejected 65101 packets during decode: (0.10%)\n",
      "[2014-06-23 16:01:34]   65101 due to incomplete headers: (0.10%)\n",
      "[2014-06-23 16:01:34]     52931 incomplete IPv6 extension headers. (0.08%)\n",
      "[2014-06-23 16:01:34]     12170 incomplete transport headers. (0.02%)\n",
      "...\n",
      "```\n",
      "\n",
      "Let's see how much observation loss we're dealing with:"
     ]
    },
    {
     "cell_type": "code",
     "collapsed": false,
     "input": [
      "lossy = (df[\"tcpSequenceLossCount\"] > 0) | (df[\"reverseTcpSequenceLossCount\"] > 0)\n",
      "lossy.value_counts()[True] / len(lossy)"
     ],
     "language": "python",
     "metadata": {},
     "outputs": []
    },
    {
     "cell_type": "markdown",
     "metadata": {},
     "source": [
      "Less than one percent. As discussed in the course, it introduces bias to drop these lossy flows, so we'll simply call this amount of loss acceptable and continue."
     ]
    },
    {
     "cell_type": "markdown",
     "metadata": {},
     "source": [
      "## RTT Measurement"
     ]
    },
    {
     "cell_type": "markdown",
     "metadata": {},
     "source": [
      "As discussed in the course (*Per-flow passive TCP performance measurement*), QoF measures RTT passively by matching sequence numbers to acknowledgments and timestamps to timestamp echoes, in order to estimate the RTT as would be measured by the sender. This is a fairly noisy measurement, as it also captures endpoint and application delay in addition to network latency, but does so without generating any extra traffic.\n",
      "\n",
      "Presently, QoF exports this information in two IEs, `minTcpRttMilliseconds` continuing the minimum of all smoothed RTT estimates over the flow's lifetime, and `lastTcpRttMilliseconds` containing the final smoother RTT estimate. The former aims to provide an upper bound for network latency along the path(s) that the flow took.\n",
      "\n",
      "Let's have a look at estimated network latency for all TCP flows. We clamp the range to 500ms, as there is a very long tail of flows that have insufficient samples for accurate measurement.\n"
     ]
    },
    {
     "cell_type": "code",
     "collapsed": false,
     "input": [
      "df['minTcpRttMilliseconds'].hist(bins=250, range=(0,500))\n",
      "plt.xlabel(\"RTT ms\")\n",
      "plt.ylabel(\"flows\")"
     ],
     "language": "python",
     "metadata": {},
     "outputs": []
    },
    {
     "cell_type": "markdown",
     "metadata": {},
     "source": [
      "Here we see peaks around 15ms, 40ms, 115ms, and 285ms. This broadly makes sense, as this traffic was taken from a transpacific link: the 115ms peak represents Asia-US traffic, for instance, and 285ms Asia-Europe via the US.\n",
      "\n",
      "We can also weight the RTTs by number of packets in the flow:"
     ]
    },
    {
     "cell_type": "code",
     "collapsed": false,
     "input": [
      "df['minTcpRttMilliseconds'].hist(bins=250, range=(0,500), \n",
      "                                 weights=df['packetDeltaCount'] + df['reversePacketDeltaCount'])\n",
      "plt.xlabel(\"RTT ms\")\n",
      "plt.ylabel(\"packets\")"
     ],
     "language": "python",
     "metadata": {},
     "outputs": []
    },
    {
     "cell_type": "markdown",
     "metadata": {},
     "source": [
      "Here, we see that the highest volume flows tend to have lower RTTs. This is a natural outcome of TCP congestion control: since the RTT is the fundamental frequency of the TCP control loop, longer-RTT flows will find less bandwidth and be crowded out by shorter-RTT flows. Indeed, looking at RTT versus data rate in two dimensions confirms this:"
     ]
    },
    {
     "cell_type": "code",
     "collapsed": false,
     "input": [
      "def plot_rate_rtt(df, by=\"flowDeltaCount\", filename=None):\n",
      "    plt.figure(figsize=(9,7))\n",
      "    plt.hexbin(x = df[\"minTcpRttMilliseconds\"],\n",
      "           y = ((df[\"octetDeltaCount\"] + df[\"reverseOctetDeltaCount\"]) * 8) / (df[\"durationSeconds\"] + 0.001), \n",
      "           C = df[by],\n",
      "           reduce_C_function = np.sum,\n",
      "           yscale='log',\n",
      "           bins='log',\n",
      "           cmap = plt.cm.binary)\n",
      "    cb = plt.colorbar()\n",
      "    cb.set_label(\"log10(\"+by+\")\")\n",
      "    plt.xlabel(\"RTT ms\")\n",
      "    plt.ylabel(\"data rate (bps)\")\n",
      "    if filename:\n",
      "        plt.savefig(filename)"
     ],
     "language": "python",
     "metadata": {},
     "outputs": []
    },
    {
     "cell_type": "code",
     "collapsed": false,
     "input": [
      "plot_rate_rtt(df[df[\"minTcpRttMilliseconds\"] < 500], by=\"packetDeltaCount\")"
     ],
     "language": "python",
     "metadata": {},
     "outputs": []
    },
    {
     "cell_type": "markdown",
     "metadata": {},
     "source": [
      "In an operational environment, we could use these RTT measurements to determine the delay between pairs of networks, using each flow to refine the estimate; however, given the fact that the MAWI data is anonymized, this won't work here. More interesting would be looking at changes in RTT over time, but we don't have enough data to show that here, either."
     ]
    },
    {
     "cell_type": "markdown",
     "metadata": {},
     "source": [
      "## Efficiency and Loss Event Measurement\n",
      "\n",
      "We can measure loss per flow two ways: in terms of *efficiency* (how many bytes were sent by the application versus how many were seen on the wire, effectively counting the proportion of \"wasted\" traffic), and in terms of *loss events* (as in the talk, detections of retransmissions or sequence number gaps per RTT). Let's look at efficiency first. To keep from dividing by zero, we need to discard empty flows (flows that had no application layer content, e.g. while the connection was refused) and aberrant flows (certain flows that had apparently more bytes sent by the application than seen on the wire, e.g. due to observation loss):"
     ]
    },
    {
     "cell_type": "code",
     "collapsed": false,
     "input": [
      "empty = df[\"tcpSequenceCount\"] + df[\"reverseTcpSequenceCount\"] == 0\n",
      "aberrant = ((df[\"tcpSequenceCount\"] + df[\"reverseTcpSequenceCount\"]) >\n",
      "            (df[\"transportOctetDeltaCount\"] + df[\"reverseTransportOctetDeltaCount\"]))\n",
      "eff_df = df[(aberrant == False) & (empty == False)]"
     ],
     "language": "python",
     "metadata": {},
     "outputs": []
    },
    {
     "cell_type": "code",
     "collapsed": false,
     "input": [
      "((eff_df[\"tcpSequenceCount\"] + eff_df[\"reverseTcpSequenceCount\"]) / \n",
      " (eff_df[\"transportOctetDeltaCount\"] + eff_df[\"reverseTransportOctetDeltaCount\"])\n",
      " ).hist(weights=(eff_df[\"packetDeltaCount\"] + eff_df[\"reversePacketDeltaCount\"]), \n",
      "        range=(0.95,1.00), bins=250)\n",
      "plt.xlabel(\"efficiency\")\n",
      "plt.ylabel(\"packets\")"
     ],
     "language": "python",
     "metadata": {},
     "outputs": []
    },
    {
     "cell_type": "markdown",
     "metadata": {},
     "source": [
      "Here we see that most packets are sent in flows that are 99.8% or better efficient. Indeed, almost 90% of flows see no loss at all:"
     ]
    },
    {
     "cell_type": "code",
     "collapsed": false,
     "input": [
      "noloss_df = eff_df[eff_df[\"tcpLossEventCount\"] + eff_df[\"reverseTcpLossEventCount\"] == 0]\n",
      "loss_df = eff_df[eff_df[\"tcpLossEventCount\"] + eff_df[\"reverseTcpLossEventCount\"] > 0]\n",
      "len(noloss_df) / len(eff_df)"
     ],
     "language": "python",
     "metadata": {},
     "outputs": []
    },
    {
     "cell_type": "markdown",
     "metadata": {},
     "source": [
      "This is usually because the flow wasn't long enough to probe the maximum bandwidth available. Indeed, let's look at the difference in durations between lossless flows and those experiencing loss:"
     ]
    },
    {
     "cell_type": "code",
     "collapsed": false,
     "input": [
      "noloss_df[\"durationSeconds\"].describe()"
     ],
     "language": "python",
     "metadata": {},
     "outputs": []
    },
    {
     "cell_type": "code",
     "collapsed": false,
     "input": [
      "loss_df[\"durationSeconds\"].describe()"
     ],
     "language": "python",
     "metadata": {},
     "outputs": []
    },
    {
     "cell_type": "markdown",
     "metadata": {},
     "source": [
      "We can examine this in more detail by plotting loss event counts by flow duration:"
     ]
    },
    {
     "cell_type": "code",
     "collapsed": false,
     "input": [
      "def plot_loss_duration(df, by=\"packetDeltaCount\", filename=None):\n",
      "    plt.figure(figsize=(9,7))\n",
      "    plt.hexbin(x = df[\"durationSeconds\"],\n",
      "           y = df[\"tcpLossEventCount\"] + df[\"reverseTcpLossEventCount\"], \n",
      "           C = df[by],\n",
      "           reduce_C_function = np.sum,\n",
      "           bins='log',\n",
      "           cmap = plt.cm.binary)\n",
      "    cb = plt.colorbar()\n",
      "    cb.set_label(\"log10(\"+by+\")\")\n",
      "    plt.xlabel(\"duration (s)\")\n",
      "    plt.ylabel(\"loss count\")\n",
      "    if filename:\n",
      "        plt.savefig(filename)"
     ],
     "language": "python",
     "metadata": {},
     "outputs": []
    },
    {
     "cell_type": "code",
     "collapsed": false,
     "input": [
      "plot_loss_duration(eff_df)"
     ],
     "language": "python",
     "metadata": {},
     "outputs": []
    },
    {
     "cell_type": "markdown",
     "metadata": {},
     "source": [
      "- - - - - -\n",
      "This notebook is &copy; 2013-2014 Brian Trammell, and is licensed under a [Creative Commons Attribution-ShareAlike 4.0 International License](http://creativecommons.org/licenses/by-sa/4.0/)."
     ]
    }
   ],
   "metadata": {}
  }
 ]
}