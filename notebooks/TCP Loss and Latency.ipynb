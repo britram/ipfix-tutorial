{
 "metadata": {
  "name": "",
  "signature": "sha256:1cb012ebfc12fe1d2e37793c854e8d8086971caa92ede413a6688b1abcebb8b6"
 },
 "nbformat": 3,
 "nbformat_minor": 0,
 "worksheets": [
  {
   "cells": [
    {
     "cell_type": "markdown",
     "metadata": {},
     "source": [
      "# TCP Loss and Latency Measurement per Flow\n",
      "\n",
      "In this notebook, we'll use the QoF flow meter, Python `ipfix` module, and Pandas to explore passive measurement of TCP loss and latency, the applications that QoF was built for.\n",
      "\n",
      "The QoF command we used to create the trace used in this notebook is shown below:\n",
      "```\n",
      "[brian@magpie ~]$ qof --verbose --yaml qof-tcp-biflow.yaml --in mawi-0330-30min.pcap.gz \\\n",
      "                    | gzip > mawi-0330-30min-biflow.ipfix.gz\n",
      "[2014-06-23 16:00:19] qof 0.9.0 (\"Albula\") starting\n",
      "[2014-06-23 16:01:34] Processed 66397589 packets into 6044114 flows:\n",
      "[2014-06-23 16:01:34]   Mean flow rate 80708.40/s.\n",
      "[2014-06-23 16:01:34]   Mean packet rate 886621.76/s.\n",
      "[2014-06-23 16:01:34]   Virtual bandwidth 5456.9622 Mbps.\n",
      "[2014-06-23 16:01:34]   Maximum flow table size 159126.\n",
      "[2014-06-23 16:01:34]   579 flush events.\n",
      "[2014-06-23 16:01:34]   4453487 asymmetric/unidirectional flows detected (73.68%)\n",
      "[2014-06-23 16:01:34] Assembled 33813 fragments into 16810 packets:\n",
      "[2014-06-23 16:01:34]   Expired 26 incomplete fragmented packets. (0.00%)\n",
      "[2014-06-23 16:01:34]   Maximum fragment table size 23.\n",
      "[2014-06-23 16:01:34] Rejected 65101 packets during decode: (0.10%)\n",
      "[2014-06-23 16:01:34]   65101 due to incomplete headers: (0.10%)\n",
      "[2014-06-23 16:01:34]     52931 incomplete IPv6 extension headers. (0.08%)\n",
      "[2014-06-23 16:01:34]     12170 incomplete transport headers. (0.02%)\n",
      "[2014-06-23 16:01:34]     (Use a larger snaplen to reduce incomplete headers.)\n",
      "[2014-06-23 16:01:34] qof terminating\n",
      "```\n",
      "\n",
      "As with the flow introduction notebook, this notebook uses the [Pandas](http://pandas.pydata.org/) data analysis framework to explore a collection of flow data. So first, run the following code to set up the environment:"
     ]
    },
    {
     "cell_type": "code",
     "collapsed": false,
     "input": [
      "import ipfix\n",
      "import panfix\n",
      "import gzip\n",
      "import bz2\n",
      "\n",
      "import numpy as np\n",
      "import pandas as pd\n",
      "import matplotlib.pyplot as plt\n",
      "\n",
      "plt.rcParams['figure.figsize'] = (12, 6)\n",
      "\n",
      "ipfix.ie.use_iana_default()\n",
      "ipfix.ie.use_5103_default()         # since we're dealing with RFC 5103 biflows\n",
      "ipfix.ie.use_specfile(\"qof.iespec\") # to get the QoF enterprise Information Elements\n",
      "ipfix.types.use_integer_ipv4()"
     ],
     "language": "python",
     "metadata": {},
     "outputs": [],
     "prompt_number": 4
    },
    {
     "cell_type": "markdown",
     "metadata": {},
     "source": [
      "In contrast to the flow introduction notebook, here we're looking only at TCP *biflows*: flows for which information was seen in both directions, or, in other words, complete connections. We'll use a much longer list of IEs in our dataframe, as well, in order to examine performance-relevant parameters of TCP flows.\n",
      "\n",
      "By selecting biflow Information Elements and TCP-specific Information Elements, we're telling `panfix` to ignore all flows which don't contain these flags; this prefilters UDP and one-way flows, and leaves us with a much smaller set of flows to work with."
     ]
    },
    {
     "cell_type": "code",
     "collapsed": false,
     "input": [
      "# Set the name of the IPFIX file to work on here.\n",
      "ipfix_filename = \"../mawi-0330-30min-biflow.ipfix.gz\"\n",
      "# change to gzip.open, bz2.open or open, as appropriate\n",
      "ipfix_file_fn = gzip.open\n",
      "# Change to None for no limit, or set a limit to reduce memory requirements\n",
      "ipfix_max_flows = 1000000\n",
      "df = panfix.dataframe_from_ipfix(ipfix_filename, (\n",
      "                                 \"flowStartMilliseconds\",           \"flowEndMilliseconds\", \n",
      "                                 \"sourceIPv4Address\",               \"sourceTransportPort\",\n",
      "                                 \"destinationIPv4Address\",          \"destinationTransportPort\", \n",
      "                                 \"protocolIdentifier\",              \"flowEndReason\",\n",
      "                                 \"octetDeltaCount\",                 \"packetDeltaCount\",\n",
      "                                 \"transportOctetDeltaCount\",        \"transportPacketDeltaCount\",\n",
      "                                 \"reverseOctetDeltaCount\",          \"reversePacketDeltaCount\",\n",
      "                                 \"reverseTransportOctetDeltaCount\", \"reverseTransportPacketDeltaCount\",\n",
      "                                 \"tcpSequenceCount\",         \"reverseTcpSequenceCount\", \n",
      "                                 \"tcpSequenceLossCount\",     \"reverseTcpSequenceLossCount\",\n",
      "                                 \"tcpSequenceJumpCount\",     \"reverseTcpSequenceJumpCount\",\n",
      "                                 \"tcpRetransmitCount\",       \"reverseTcpRetransmitCount\",\n",
      "                                 \"tcpLossEventCount\",        \"reverseTcpLossEventCount\",\n",
      "                                 \"minTcpRttMilliseconds\",    \"lastTcpRttMilliseconds\",\n",
      "                                 \"tcpRttSampleCount\"),\n",
      "                                 count=ipfix_max_flows, skip=ipfix_skip_flows,\n",
      "                                 open_fn=ipfix_file_fn)\n",
      "df = panfix.coerce_timestamps(df)\n",
      "df = panfix.derive_duration(df)\n",
      "print(\"Loaded \"+str(len(df))+\" flows.\")"
     ],
     "language": "python",
     "metadata": {},
     "outputs": [
      {
       "output_type": "stream",
       "stream": "stdout",
       "text": [
        "Loaded 189042 flows.\n"
       ]
      }
     ],
     "prompt_number": 7
    },
    {
     "cell_type": "markdown",
     "metadata": {},
     "source": [
      "## Measuring Observation Loss\n",
      "\n",
      "As discussed in the course (*Never Make the Mistake of Thinking You're Measuring What You Think You're Measuring, part one*), QoF observes the set of TCP sequence numbers to determine if packets were probably sent but not observed, and stores its estimation of the amount of *observation loss* per flow in terms of octets in the `tcpSequenceLossCount` and `reverseTcpSequenceLossCount` IEs.\n",
      "\n",
      "This can happen due to improperly designed or provisioned measurement infrastructure. In the case of the MAWI data, it primarily occurs due to QoF's decoder rejecting packets truncated by the snaplen used by the MAWI trace; from the QoF verbose output:\n",
      "```\n",
      "[2014-06-23 16:01:34]   Expired 26 incomplete fragmented packets. (0.00%)\n",
      "...\n",
      "[2014-06-23 16:01:34] Rejected 65101 packets during decode: (0.10%)\n",
      "[2014-06-23 16:01:34]   65101 due to incomplete headers: (0.10%)\n",
      "[2014-06-23 16:01:34]     52931 incomplete IPv6 extension headers. (0.08%)\n",
      "[2014-06-23 16:01:34]     12170 incomplete transport headers. (0.02%)\n",
      "...\n",
      "```\n",
      "\n",
      "Let's see how much observation loss we're dealing with:"
     ]
    },
    {
     "cell_type": "code",
     "collapsed": false,
     "input": [
      "lossy = (df[\"tcpSequenceLossCount\"] > 0) | (df[\"reverseTcpSequenceLossCount\"] > 0)\n",
      "lossy.value_counts()[True] / len(lossy)"
     ],
     "language": "python",
     "metadata": {},
     "outputs": [
      {
       "metadata": {},
       "output_type": "pyout",
       "prompt_number": 12,
       "text": [
        "0.0099977782714952227"
       ]
      }
     ],
     "prompt_number": 12
    },
    {
     "cell_type": "markdown",
     "metadata": {},
     "source": [
      "## RTT Measurement"
     ]
    },
    {
     "cell_type": "code",
     "collapsed": false,
     "input": [],
     "language": "python",
     "metadata": {},
     "outputs": []
    },
    {
     "cell_type": "markdown",
     "metadata": {},
     "source": [
      "## Loss Event and Efficiency Measurement"
     ]
    },
    {
     "cell_type": "code",
     "collapsed": false,
     "input": [],
     "language": "python",
     "metadata": {},
     "outputs": []
    }
   ],
   "metadata": {}
  }
 ]
}