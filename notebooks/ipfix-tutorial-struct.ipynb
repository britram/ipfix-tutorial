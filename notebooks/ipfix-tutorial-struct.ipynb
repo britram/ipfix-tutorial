{
 "metadata": {
  "name": "",
  "signature": "sha256:0c680e22a22795a72b450ea263656a1033b9578fc04dd948b1a90921fbec6001"
 },
 "nbformat": 3,
 "nbformat_minor": 0,
 "worksheets": [
  {
   "cells": [
    {
     "cell_type": "markdown",
     "metadata": {},
     "source": [
      "Structures\n",
      "----------\n",
      "\n",
      "Here we'll construct a few IPFIX messages to have a look at the structures on the wire. First we need to set up the environment for the tutorial, and define some convenience functions that will make things easier."
     ]
    },
    {
     "cell_type": "code",
     "collapsed": false,
     "input": [
      "import ipfix\n",
      "import ipfix.vis\n",
      "\n",
      "from ipaddress import ip_address\n",
      "from datetime import datetime\n",
      "from datetime import timezone\n",
      "from IPython.display import SVG\n",
      "\n",
      "def iso8601(x):\n",
      "    return datetime.strptime(x, \"%Y-%m-%d %H:%M:%S.%f\")\n",
      "\n",
      "def draw_message(msg, length=256):\n",
      "    return SVG(ipfix.vis.MessageBufferRenderer(msg, raster=4).render(length=length))\n",
      "\n",
      "def draw_template(tmpl):\n",
      "    ofd = ipfix.vis.OctetFieldDrawing(raster=4)\n",
      "    ipfix.vis.draw_template(ofd, tmpl)\n",
      "    return SVG(ofd.render((90,30)))\n",
      "  "
     ],
     "language": "python",
     "metadata": {},
     "outputs": []
    },
    {
     "cell_type": "markdown",
     "metadata": {},
     "source": [
      "IPFIX identifies data record structures using Information Elements. The basic Information Elements are defined in the IANA [IPFIX Information Element Registry](http://www.iana.org/assignments/ipfix), and a mechanism for applying these Information Elements to export bidirectional flow data is defined in [RFC 5103](http://tools.ietf.org/html/5103). In order to work with these Information Elements, we'll need to tell the ipfix module to use them:"
     ]
    },
    {
     "cell_type": "code",
     "collapsed": false,
     "input": [
      "ipfix.ie.use_iana_default()\n",
      "ipfix.ie.use_5103_default()\n",
      "ipfix.ie.use_specfile(\"/Users/brian/work/qof/pytools/qof.iespec\")"
     ],
     "language": "python",
     "metadata": {},
     "outputs": []
    },
    {
     "cell_type": "markdown",
     "metadata": {},
     "source": [
      "Okay, now we're ready to begin."
     ]
    },
    {
     "cell_type": "markdown",
     "metadata": {},
     "source": [
      "Templates and Messages\n",
      "----------------------\n",
      "\n",
      "A Template is an ordered sequence of Information Elements that describes the structure of a type of Data Record.\n",
      "\n",
      "Let's consider a template defining a simple flow record:"
     ]
    },
    {
     "cell_type": "code",
     "collapsed": false,
     "input": [
      "tmpl = ipfix.template.for_specs(261, \"flowStartMilliseconds\", \n",
      "                                     \"flowEndMilliseconds\", \n",
      "                                     \"sourceIPv4Address\", \n",
      "                                     \"destinationIPv4Address\",\n",
      "                                     \"sourceTransportPort\",\n",
      "                                     \"destinationTransportPort\",\n",
      "                                     \"protocolIdentifier\",\n",
      "                                     \"octetDeltaCount\", \n",
      "                                     \"packetDeltaCount\")\n",
      "draw_template(tmpl)"
     ],
     "language": "python",
     "metadata": {},
     "outputs": []
    },
    {
     "cell_type": "markdown",
     "metadata": {},
     "source": [
      "To illustrate how this is used to encode a record, let's add this template to a message, along with a record encoded using the template:"
     ]
    },
    {
     "cell_type": "code",
     "collapsed": false,
     "input": [
      "msg = ipfix.message.MessageBuffer()\n",
      "msg.begin_export(8304)\n",
      "msg.add_template(tmpl)\n",
      "msg.export_new_set(261)\n",
      "msg.export_namedict({ 'flowStartMilliseconds':    iso8601('2012-10-22 09:29:07.170000'),\n",
      "                      'flowEndMilliseconds':      iso8601('2012-10-22 09:29:33.916000'),\n",
      "                      'sourceIPv4Address':        ip_address('192.0.2.11'),\n",
      "                      'destinationIPv4Address':   ip_address('192.0.2.212'),\n",
      "                      'sourceTransportPort':      32798,\n",
      "                      'destinationTransportPort': 80,\n",
      "                      'protocolIdentifier':       6,\n",
      "                      'packetDeltaCount':         17,\n",
      "                      'octetDeltaCount':          3329})\n",
      "draw_message(msg)\n"
     ],
     "language": "python",
     "metadata": {},
     "outputs": []
    },
    {
     "cell_type": "markdown",
     "metadata": {},
     "source": [
      "The set ID matches the template ID, and the Information Elements in the Template appear in the same order as the fields in the Data Records in the Message.\n",
      "\n",
      "Templates are persistent within a session; subsequent messages can refer to templates sent in previous messages:"
     ]
    },
    {
     "cell_type": "code",
     "collapsed": false,
     "input": [
      "msg.begin_export(8304)\n",
      "msg.export_new_set(261)\n",
      "msg.export_namedict({ 'flowStartMilliseconds':    iso8601('2012-10-22 09:30:01.912000'),\n",
      "                      'flowEndMilliseconds':      iso8601('2012-10-22 09:31:15.009000'),\n",
      "                      'sourceIPv4Address':        ip_address('192.0.2.212'),\n",
      "                      'destinationIPv4Address':   ip_address('192.0.2.11'),\n",
      "                      'sourceTransportPort':      80,\n",
      "                      'destinationTransportPort': 32801,\n",
      "                      'protocolIdentifier':       6,\n",
      "                      'packetDeltaCount':         83,\n",
      "                      'octetDeltaCount':          97501})\n",
      "msg.export_namedict({ 'flowStartMilliseconds':    iso8601('2012-10-22 09:30:08.182000'),\n",
      "                      'flowEndMilliseconds':      iso8601('2012-10-22 09:31:16.012000'),\n",
      "                      'sourceIPv4Address':        ip_address('192.0.2.212'),\n",
      "                      'destinationIPv4Address':   ip_address('192.0.2.11'),\n",
      "                      'sourceTransportPort':      80,\n",
      "                      'destinationTransportPort': 32802,\n",
      "                      'protocolIdentifier':       6,\n",
      "                      'packetDeltaCount':         99,\n",
      "                      'octetDeltaCount':          136172})\n",
      "draw_message(msg)"
     ],
     "language": "python",
     "metadata": {},
     "outputs": []
    },
    {
     "cell_type": "markdown",
     "metadata": {},
     "source": [
      "To see how IPFIX encodes reduced-length and variable-length Information Elements, let's define a new Template including the 802.11 SSID, encoded as a UTF-8 string. Here, note that the octetDeltaCount and packetDeltaCount Information Elements are exported using 4 bytes instead of the native 8, as well."
     ]
    },
    {
     "cell_type": "code",
     "collapsed": false,
     "input": [
      "vtmpl = ipfix.template.for_specs(262, \"flowStartMilliseconds\", \n",
      "                                      \"flowEndMilliseconds\", \n",
      "                                      \"sourceIPv6Address\", \n",
      "                                      \"destinationIPv6Address\",\n",
      "                                      \"octetDeltaCount[4]\", \n",
      "                                      \"packetDeltaCount[4]\",\n",
      "                                      \"wlanSSID\")\n",
      "msg.begin_export(8304)\n",
      "msg.add_template(vtmpl)\n",
      "msg.export_new_set(262)\n",
      "msg.export_namedict({'flowStartMilliseconds':    iso8601('2012-10-22 09:31:54.903000'),\n",
      "                     'flowEndMilliseconds':      iso8601('2012-10-22 09:41:52.627000'),\n",
      "                     'sourceIPv6Address':        ip_address('2001:db8:c0:ffee::2'),\n",
      "                     'destinationIPv6Address':   ip_address('2001:bd8:b:ea75::3'),\n",
      "                     'packetDeltaCount':         212,\n",
      "                     'octetDeltaCount':          553290,\n",
      "                     'wlanSSID':                 'ietf-a-v6only'})\n",
      "draw_message(msg)"
     ],
     "language": "python",
     "metadata": {},
     "outputs": []
    },
    {
     "cell_type": "markdown",
     "metadata": {},
     "source": [
      "In Action\n",
      "---------\n",
      "\n",
      "Illustrating encodings with example messages is nice, but IPFIX is an export protocol as well as a data format. To see IPFIX in action, configure an Exporting Process to connect to TCP port 4739 on the machine running the notebook server. Run the following code to accept the next connection, then start the exporting process:"
     ]
    },
    {
     "cell_type": "code",
     "collapsed": false,
     "input": [
      "import socketserver\n",
      "import ipfix.reader\n",
      "\n",
      "msg_count = 20\n",
      "msg_length = 512\n",
      "msg_idx = 0\n",
      "\n",
      "svgbuf = []\n",
      "\n",
      "def draw_next_buffered_message(next_msg_idx = None):\n",
      "    global msg_idx\n",
      "    if next_msg_idx is not None:\n",
      "        msg_idx = next_msg_idx\n",
      "    display(SVG(data=svgbuf[msg_idx]))\n",
      "    msg_idx += 1\n",
      "\n",
      "class StreamRendererHandler(socketserver.StreamRequestHandler):\n",
      "    def handle(self):\n",
      "        global svgbuf\n",
      "        print (\"connection from \"+str(self.client_address))\n",
      "        msr = ipfix.vis.MessageStreamRenderer(self.rfile, scale=(90,30), raster=4)\n",
      "        \n",
      "        for i in range(msg_count):\n",
      "            svgbuf.append(msr.render_next_message(msg_length))\n",
      "\n",
      "srv = None\n",
      "srv = socketserver.TCPServer((\"\", 4739), StreamRendererHandler)\n",
      "srv.handle_request()"
     ],
     "language": "python",
     "metadata": {},
     "outputs": []
    },
    {
     "cell_type": "markdown",
     "metadata": {},
     "source": [
      "This will probably cause the exporting process to fail, since it accepts a TCP connection then drops it unceremoniously after the first few messages. You can then display the first bytes of the first few messages by repeatedly running:"
     ]
    },
    {
     "cell_type": "code",
     "collapsed": false,
     "input": [
      "draw_next_buffered_message()"
     ],
     "language": "python",
     "metadata": {},
     "outputs": []
    },
    {
     "cell_type": "code",
     "collapsed": false,
     "input": [],
     "language": "python",
     "metadata": {},
     "outputs": []
    }
   ],
   "metadata": {}
  }
 ]
}