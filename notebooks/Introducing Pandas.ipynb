{
 "metadata": {
  "name": "",
  "signature": "sha256:399dba31f2dd2aa920b80638dbe21defea1977f069d404a5ab10aa1307f292dc"
 },
 "nbformat": 3,
 "nbformat_minor": 0,
 "worksheets": [
  {
   "cells": [
    {
     "cell_type": "markdown",
     "metadata": {},
     "source": [
      "# Introducing Pandas\n",
      "\n",
      "Before we get into the details of flow analysis, it makes sense to get used to the tools we'll be using. This notebook is designed to introduce IPython and Pandas for general data analysis tasks. This forms a basis for doing flow analysis work in this environment.\n",
      "\n",
      "This notebook is (very lightly) adapted from Chapters 0 through 4 of the \"Pandas Cookbook\" by Julia Evans; all credit for the content here goes to her (and when you read \"I\" here, that's Ms. Evans speaking).\n",
      "\n",
      "## A quick tour of IPython Notebook\n",
      "- - - \n",
      "\n",
      "This tour is designed to be run in interactive mode, using IPython *notebooks*. If you're not already viewing the tutorial using IPython's notebook mode, get IPython notebook installed and, and start it from a terminal by running\n",
      "\n",
      "`ipython notebook`\n",
      "\n",
      "First, we need to explain how to run cells. Try to run the cell below!"
     ]
    },
    {
     "cell_type": "code",
     "collapsed": false,
     "input": [
      "import pandas as pd\n",
      "\n",
      "print(\"Hi! This is a cell. Press the \u25b6 button above to run it\")"
     ],
     "language": "python",
     "metadata": {},
     "outputs": []
    },
    {
     "cell_type": "markdown",
     "metadata": {},
     "source": [
      "You can also run a cell with Ctrl+Enter or Shift+Enter. Experiment a bit with that."
     ]
    },
    {
     "cell_type": "markdown",
     "metadata": {},
     "source": [
      "One of the most useful things about IPython notebook is its tab completion. \n",
      "\n",
      "Try this: click just after `read_csv(` in the cell below and press Shift+Tab 4 times, slowly"
     ]
    },
    {
     "cell_type": "code",
     "collapsed": false,
     "input": [
      "pd.read_csv("
     ],
     "language": "python",
     "metadata": {},
     "outputs": []
    },
    {
     "cell_type": "markdown",
     "metadata": {},
     "source": [
      "After the first time, you should see this:\n",
      "<div align=\"center\">\n",
      "<img src=\"files/images/tab-once.png\" width=\"75%\">\n",
      "</div>\n",
      "\n",
      "After the second time:\n",
      "<div align=\"center\">\n",
      "<img src=\"files/images/tab-twice.png\" width=\"75%\">\n",
      "</div>\n",
      "\n",
      "After the fourth time, a big help box should pop up at the bottom of the screen, with the full documentation for the `read_csv` function:\n",
      "<div align=\"center\">\n",
      "<img src=\"files/images/tab-4-times.png\" width=\"90%\">\n",
      "</div>"
     ]
    },
    {
     "cell_type": "markdown",
     "metadata": {},
     "source": [
      "I find this amazingly useful. I think of this as \"the more confused I am, the more times I should press Shift+Tab\". Nothing bad will happen if you tab complete 12 times.\n",
      "\n",
      "Okay, let's try tab completion for function names!"
     ]
    },
    {
     "cell_type": "code",
     "collapsed": false,
     "input": [
      "pd.r"
     ],
     "language": "python",
     "metadata": {},
     "outputs": []
    },
    {
     "cell_type": "markdown",
     "metadata": {},
     "source": [
      "You should see this:\n",
      "\n",
      "<div align=\"center\">\n",
      "<img src=\"files/images/function-completion.png\" width=\"30%\">\n",
      "</div>"
     ]
    },
    {
     "cell_type": "markdown",
     "metadata": {},
     "source": [
      "### Writing code"
     ]
    },
    {
     "cell_type": "markdown",
     "metadata": {},
     "source": [
      "Writing code in the notebook is pretty normal."
     ]
    },
    {
     "cell_type": "code",
     "collapsed": false,
     "input": [
      "def print_10_nums():\n",
      "    for i in range(10):\n",
      "        print i,"
     ],
     "language": "python",
     "metadata": {},
     "outputs": []
    },
    {
     "cell_type": "code",
     "collapsed": false,
     "input": [
      "print_10_nums()"
     ],
     "language": "python",
     "metadata": {},
     "outputs": []
    },
    {
     "cell_type": "markdown",
     "metadata": {},
     "source": [
      "### Saving"
     ]
    },
    {
     "cell_type": "markdown",
     "metadata": {},
     "source": [
      "As of the latest stable version, the notebook autosaves. You should use the latest stable version. Really."
     ]
    },
    {
     "cell_type": "markdown",
     "metadata": {},
     "source": [
      "### Magic functions"
     ]
    },
    {
     "cell_type": "markdown",
     "metadata": {},
     "source": [
      "IPython has all kinds of magic functions. Here's an example of comparing `sum()` with a list comprehension to a generator comprehension using the `%time` magic."
     ]
    },
    {
     "cell_type": "code",
     "collapsed": false,
     "input": [
      "%time sum([x for x in range(100000)])"
     ],
     "language": "python",
     "metadata": {},
     "outputs": []
    },
    {
     "cell_type": "code",
     "collapsed": false,
     "input": [
      "%time sum(x for x in range(100000))"
     ],
     "language": "python",
     "metadata": {},
     "outputs": []
    },
    {
     "cell_type": "markdown",
     "metadata": {},
     "source": [
      "The magics I use most are `%time` and `%prun` for profiling. You can run `%magic` to get a list of all of them, and `%quickref` for a reference sheet."
     ]
    },
    {
     "cell_type": "code",
     "collapsed": false,
     "input": [
      "%quickref"
     ],
     "language": "python",
     "metadata": {},
     "outputs": []
    },
    {
     "cell_type": "markdown",
     "metadata": {},
     "source": [
      "## Getting data into Pandas (reading from a CSV file)\n",
      "- - - \n",
      "\n",
      "Now let's get started with using Pandas. First, run the following code to set up the environment in IPython:"
     ]
    },
    {
     "cell_type": "markdown",
     "metadata": {},
     "source": [
      "<style>\n",
      "    @font-face {\n",
      "        font-family: \"Computer Modern\";\n",
      "        src: url('http://mirrors.ctan.org/fonts/cm-unicode/fonts/otf/cmunss.otf');\n",
      "    }\n",
      "    div.cell{\n",
      "        width:800px;\n",
      "        margin-left:16% !important;\n",
      "        margin-right:auto;\n",
      "    }\n",
      "    h1 {\n",
      "        font-family: Helvetica, serif;\n",
      "    }\n",
      "    h4{\n",
      "        margin-top:12px;\n",
      "        margin-bottom: 3px;\n",
      "       }\n",
      "    div.text_cell_render{\n",
      "        font-family: Computer Modern, \"Helvetica Neue\", Arial, Helvetica, Geneva, sans-serif;\n",
      "        line-height: 145%;\n",
      "        font-size: 130%;\n",
      "        width:800px;\n",
      "        margin-left:auto;\n",
      "        margin-right:auto;\n",
      "    }\n",
      "    .CodeMirror{\n",
      "            font-family: \"Source Code Pro\", source-code-pro,Consolas, monospace;\n",
      "    }\n",
      "    .text_cell_render h5 {\n",
      "        font-weight: 300;\n",
      "        font-size: 22pt;\n",
      "        color: #4057A1;\n",
      "        font-style: italic;\n",
      "        margin-bottom: .5em;\n",
      "        margin-top: 0.5em;\n",
      "        display: block;\n",
      "    }\n",
      "    \n",
      "    .warning{\n",
      "        color: rgb( 240, 20, 20 )\n",
      "        }  "
     ]
    },
    {
     "cell_type": "code",
     "collapsed": false,
     "input": [
      "# Render our plots inline\n",
      "%matplotlib inline\n",
      "\n",
      "import pandas as pd\n",
      "import matplotlib.pyplot as plt\n",
      "\n",
      "pd.set_option('display.mpl_style', 'default') # Make the graphs a bit prettier\n",
      "plt.rcParams['figure.figsize'] = (15, 5)"
     ],
     "language": "python",
     "metadata": {},
     "outputs": []
    },
    {
     "cell_type": "markdown",
     "metadata": {},
     "source": [
      "### Reading data from a CSV file"
     ]
    },
    {
     "cell_type": "markdown",
     "metadata": {},
     "source": [
      "You can read data from a CSV file using the `read_csv` function. By default, it assumes that the fields are comma-separated.\n",
      "\n",
      "We're going to be looking some cyclist data from Montr\u00e9al. Here's the [original page](http://donnees.ville.montreal.qc.ca/dataset/velos-comptage) (in French), but it's already included in this repository. We're using the data from 2012.\n",
      "\n",
      "This dataset is a list of how many people were on 7 different bike paths in Montreal, each day."
     ]
    },
    {
     "cell_type": "code",
     "collapsed": false,
     "input": [
      "broken_df = pd.read_csv('../data/bikes.csv')"
     ],
     "language": "python",
     "metadata": {},
     "outputs": []
    },
    {
     "cell_type": "markdown",
     "metadata": {},
     "source": [
      "Well, that didn't work; the data's encoded in `latin1` as opposed to `utf8`. There are a few other issues which `read_csv()` has options to fix as well:\n",
      "\n",
      "* change the column separator to a `;`\n",
      "* Parse the dates in the 'Date' column\n",
      "* Tell it that our dates have the date first instead of the month first\n",
      "* Set the index to be the 'Date' column"
     ]
    },
    {
     "cell_type": "code",
     "collapsed": false,
     "input": [
      "fixed_df = pd.read_csv('../data/bikes.csv', sep=';', encoding='latin1', parse_dates=['Date'], dayfirst=True, index_col='Date')\n",
      "fixed_df[:3]"
     ],
     "language": "python",
     "metadata": {},
     "outputs": []
    },
    {
     "cell_type": "markdown",
     "metadata": {},
     "source": [
      "### Selecting a column"
     ]
    },
    {
     "cell_type": "markdown",
     "metadata": {},
     "source": [
      "When you read a CSV, you get a kind of object called a `DataFrame`, which is made up of rows and columns. You get columns out of a DataFrame the same way you get elements out of a dictionary.\n",
      "\n",
      "Here's an example:"
     ]
    },
    {
     "cell_type": "code",
     "collapsed": false,
     "input": [
      "fixed_df['Berri 1']"
     ],
     "language": "python",
     "metadata": {},
     "outputs": []
    },
    {
     "cell_type": "markdown",
     "metadata": {},
     "source": [
      "### Plotting a column"
     ]
    },
    {
     "cell_type": "markdown",
     "metadata": {},
     "source": [
      "Just add `.plot()` to the end! How could it be easier? =)\n",
      "\n",
      "We can see that, unsurprisingly, not many people are biking in January, February, and March, "
     ]
    },
    {
     "cell_type": "code",
     "collapsed": false,
     "input": [
      "fixed_df['Berri 1'].plot()"
     ],
     "language": "python",
     "metadata": {},
     "outputs": []
    },
    {
     "cell_type": "markdown",
     "metadata": {},
     "source": [
      "We can also plot all the columns just as easily. We'll make it a little bigger, too.\n",
      "You can see that it's more squished together, but all the bike paths behave basically the same -- if it's a bad day for cyclists, it's a bad day everywhere."
     ]
    },
    {
     "cell_type": "code",
     "collapsed": false,
     "input": [
      "fixed_df.plot(figsize=(15, 10))"
     ],
     "language": "python",
     "metadata": {},
     "outputs": []
    },
    {
     "cell_type": "markdown",
     "metadata": {},
     "source": [
      "### Putting it all together"
     ]
    },
    {
     "cell_type": "markdown",
     "metadata": {},
     "source": [
      "Here's the code we needed to write to draw that graph, all together:"
     ]
    },
    {
     "cell_type": "code",
     "collapsed": false,
     "input": [
      "df = pd.read_csv('../data/bikes.csv', sep=';', encoding='latin1', parse_dates=['Date'], dayfirst=True, index_col='Date')\n",
      "df['Berri 1'].plot()"
     ],
     "language": "python",
     "metadata": {},
     "outputs": []
    },
    {
     "cell_type": "markdown",
     "metadata": {},
     "source": [
      "<style>\n",
      "    @font-face {\n",
      "        font-family: \"Computer Modern\";\n",
      "        src: url('http://mirrors.ctan.org/fonts/cm-unicode/fonts/otf/cmunss.otf');\n",
      "    }\n",
      "    div.cell{\n",
      "        width:800px;\n",
      "        margin-left:16% !important;\n",
      "        margin-right:auto;\n",
      "    }\n",
      "    h1 {\n",
      "        font-family: Helvetica, serif;\n",
      "    }\n",
      "    h4{\n",
      "        margin-top:12px;\n",
      "        margin-bottom: 3px;\n",
      "       }\n",
      "    div.text_cell_render{\n",
      "        font-family: Computer Modern, \"Helvetica Neue\", Arial, Helvetica, Geneva, sans-serif;\n",
      "        line-height: 145%;\n",
      "        font-size: 130%;\n",
      "        width:800px;\n",
      "        margin-left:auto;\n",
      "        margin-right:auto;\n",
      "    }\n",
      "    .CodeMirror{\n",
      "            font-family: \"Source Code Pro\", source-code-pro,Consolas, monospace;\n",
      "    }\n",
      "    .text_cell_render h5 {\n",
      "        font-weight: 300;\n",
      "        font-size: 22pt;\n",
      "        color: #4057A1;\n",
      "        font-style: italic;\n",
      "        margin-bottom: .5em;\n",
      "        margin-top: 0.5em;\n",
      "        display: block;\n",
      "    }\n",
      "    \n",
      "    .warning{\n",
      "        color: rgb( 240, 20, 20 )\n",
      "        }  "
     ]
    },
    {
     "cell_type": "markdown",
     "metadata": {},
     "source": [
      "In the subsequent parts of the tutorial (Introducing Flows and Introducing IPFIX), we'll be using a different method for getting data into Pandas (`panfix.dataframe_from_ipfix()`), but dataframes, plotting, and the rest, will all work the same."
     ]
    },
    {
     "cell_type": "markdown",
     "metadata": {},
     "source": [
      "## Selecting and investigating data\n",
      "- - - \n",
      "\n",
      "We're going to use a new dataset here, to demonstrate how to deal with larger datasets. This is a subset of the of 311 service requests from [NYC Open Data](https://nycopendata.socrata.com/Social-Services/311-Service-Requests-from-2010-to-Present/erm2-nwe9). "
     ]
    },
    {
     "cell_type": "code",
     "collapsed": false,
     "input": [
      "complaints = pd.read_csv('../data/311-service-requests.csv')"
     ],
     "language": "python",
     "metadata": {},
     "outputs": []
    },
    {
     "cell_type": "markdown",
     "metadata": {},
     "source": [
      "Depending on your pandas version, you might see an error like \"DtypeWarning: Columns (8) have mixed types\". This means that it's encountered a problem reading in our data. In this case it almost certainly means that it has columns where some of the entries are strings and some are integers.\n",
      "\n",
      "For now we're going to ignore it and hope we don't run into a problem, but in the long run we'd need to investigate this warning."
     ]
    },
    {
     "cell_type": "markdown",
     "metadata": {},
     "source": [
      "### What's even in it? (the summary)"
     ]
    },
    {
     "cell_type": "markdown",
     "metadata": {},
     "source": [
      "When you print a large dataframe, it will only show you the first few rows.\n",
      "\n",
      "If you don't see this, don't panic! The default behavior for large dataframes changed between pandas 0.12 and 0.13. Previous to 0.13 it would show you a summary of the dataframe. This includes all the columns, and how many non-null values there are in each column."
     ]
    },
    {
     "cell_type": "code",
     "collapsed": false,
     "input": [
      "complaints"
     ],
     "language": "python",
     "metadata": {},
     "outputs": []
    },
    {
     "cell_type": "markdown",
     "metadata": {},
     "source": [
      "### Selecting columns and rows"
     ]
    },
    {
     "cell_type": "markdown",
     "metadata": {},
     "source": [
      "To select a column, we index with the name of the column, like this:"
     ]
    },
    {
     "cell_type": "code",
     "collapsed": false,
     "input": [
      "complaints['Complaint Type']"
     ],
     "language": "python",
     "metadata": {},
     "outputs": []
    },
    {
     "cell_type": "markdown",
     "metadata": {},
     "source": [
      "To get the first 5 rows of a dataframe, we can use a slice: `df[:5]`.\n",
      "\n",
      "This is a great way to get a sense for what kind of information is in the dataframe -- take a minute to look at the contents and get a feel for this dataset."
     ]
    },
    {
     "cell_type": "code",
     "collapsed": false,
     "input": [
      "complaints[:5]"
     ],
     "language": "python",
     "metadata": {},
     "outputs": []
    },
    {
     "cell_type": "markdown",
     "metadata": {},
     "source": [
      "We can combine these to get the first 5 rows of a column:"
     ]
    },
    {
     "cell_type": "code",
     "collapsed": false,
     "input": [
      "complaints['Complaint Type'][:5]"
     ],
     "language": "python",
     "metadata": {},
     "outputs": []
    },
    {
     "cell_type": "markdown",
     "metadata": {},
     "source": [
      "and it doesn't matter which direction we do it in:"
     ]
    },
    {
     "cell_type": "code",
     "collapsed": false,
     "input": [
      "complaints[:5]['Complaint Type']"
     ],
     "language": "python",
     "metadata": {},
     "outputs": []
    },
    {
     "cell_type": "markdown",
     "metadata": {},
     "source": [
      "### Selecting multiple columns"
     ]
    },
    {
     "cell_type": "markdown",
     "metadata": {},
     "source": [
      "What if we just want to know the complaint type and the borough, but not the rest of the information? Pandas makes it really easy to select a subset of the columns: just index with list of columns you want."
     ]
    },
    {
     "cell_type": "code",
     "collapsed": false,
     "input": [
      "complaints[['Complaint Type', 'Borough']]"
     ],
     "language": "python",
     "metadata": {},
     "outputs": []
    },
    {
     "cell_type": "markdown",
     "metadata": {},
     "source": [
      "That showed us a summary, and then we can look at the first 10 rows:"
     ]
    },
    {
     "cell_type": "code",
     "collapsed": false,
     "input": [
      "complaints[['Complaint Type', 'Borough']][:10]"
     ],
     "language": "python",
     "metadata": {},
     "outputs": []
    },
    {
     "cell_type": "markdown",
     "metadata": {},
     "source": [
      "### What's the most common complaint type?"
     ]
    },
    {
     "cell_type": "markdown",
     "metadata": {},
     "source": [
      "This is a really easy question to answer! There's a `.value_counts()` method that we can use:"
     ]
    },
    {
     "cell_type": "code",
     "collapsed": false,
     "input": [
      "complaints['Complaint Type'].value_counts()"
     ],
     "language": "python",
     "metadata": {},
     "outputs": []
    },
    {
     "cell_type": "markdown",
     "metadata": {},
     "source": [
      "If we just wanted the top 10 most common complaints, we can do this:"
     ]
    },
    {
     "cell_type": "code",
     "collapsed": false,
     "input": [
      "complaint_counts = complaints['Complaint Type'].value_counts()\n",
      "complaint_counts[:10]"
     ],
     "language": "python",
     "metadata": {},
     "outputs": []
    },
    {
     "cell_type": "markdown",
     "metadata": {},
     "source": [
      "But it gets better! We can plot them!"
     ]
    },
    {
     "cell_type": "code",
     "collapsed": false,
     "input": [
      "complaint_counts[:10].plot(kind='bar')"
     ],
     "language": "python",
     "metadata": {},
     "outputs": []
    },
    {
     "cell_type": "markdown",
     "metadata": {},
     "source": [
      "<style>\n",
      "    @font-face {\n",
      "        font-family: \"Computer Modern\";\n",
      "        src: url('http://mirrors.ctan.org/fonts/cm-unicode/fonts/otf/cmunss.otf');\n",
      "    }\n",
      "    div.cell{\n",
      "        width:800px;\n",
      "        margin-left:16% !important;\n",
      "        margin-right:auto;\n",
      "    }\n",
      "    h1 {\n",
      "        font-family: Helvetica, serif;\n",
      "    }\n",
      "    h4{\n",
      "        margin-top:12px;\n",
      "        margin-bottom: 3px;\n",
      "       }\n",
      "    div.text_cell_render{\n",
      "        font-family: Computer Modern, \"Helvetica Neue\", Arial, Helvetica, Geneva, sans-serif;\n",
      "        line-height: 145%;\n",
      "        font-size: 130%;\n",
      "        width:800px;\n",
      "        margin-left:auto;\n",
      "        margin-right:auto;\n",
      "    }\n",
      "    .CodeMirror{\n",
      "            font-family: \"Source Code Pro\", source-code-pro,Consolas, monospace;\n",
      "    }\n",
      "    .text_cell_render h5 {\n",
      "        font-weight: 300;\n",
      "        font-size: 22pt;\n",
      "        color: #4057A1;\n",
      "        font-style: italic;\n",
      "        margin-bottom: .5em;\n",
      "        margin-top: 0.5em;\n",
      "        display: block;\n",
      "    }\n",
      "    \n",
      "    .warning{\n",
      "        color: rgb( 240, 20, 20 )\n",
      "        }  "
     ]
    },
    {
     "cell_type": "markdown",
     "metadata": {},
     "source": [
      "### Selecting only noise complaints"
     ]
    },
    {
     "cell_type": "markdown",
     "metadata": {},
     "source": [
      "I'd like to know which borough has the most noise complaints. First, we'll take a look at the data to see what it looks like:"
     ]
    },
    {
     "cell_type": "code",
     "collapsed": false,
     "input": [
      "complaints[:5]"
     ],
     "language": "python",
     "metadata": {},
     "outputs": []
    },
    {
     "cell_type": "markdown",
     "metadata": {},
     "source": [
      "To get the noise complaints, we need to find the rows where the \"Complaint Type\" column is \"Noise - Street/Sidewalk\". I'll show you how to do that, and then explain what's going on."
     ]
    },
    {
     "cell_type": "code",
     "collapsed": false,
     "input": [
      "noise_complaints = complaints[complaints['Complaint Type'] == \"Noise - Street/Sidewalk\"]\n",
      "noise_complaints[:3]"
     ],
     "language": "python",
     "metadata": {},
     "outputs": []
    },
    {
     "cell_type": "markdown",
     "metadata": {},
     "source": [
      "If you look at `noise_complaints`, you'll see that this worked, and it only contains complaints with the right complaint type. But how does this work? Let's deconstruct it into two pieces"
     ]
    },
    {
     "cell_type": "code",
     "collapsed": false,
     "input": [
      "complaints['Complaint Type'] == \"Noise - Street/Sidewalk\""
     ],
     "language": "python",
     "metadata": {},
     "outputs": []
    },
    {
     "cell_type": "markdown",
     "metadata": {},
     "source": [
      "This is a big array of `True`s and `False`s, one for each row in our dataframe. When we index our dataframe with this array, we get just the rows where.\n",
      "\n",
      "You can also combine more than one condition with the `&` operator like this:"
     ]
    },
    {
     "cell_type": "code",
     "collapsed": false,
     "input": [
      "is_noise = complaints['Complaint Type'] == \"Noise - Street/Sidewalk\"\n",
      "in_brooklyn = complaints['Borough'] == \"BROOKLYN\"\n",
      "complaints[is_noise & in_brooklyn][:5]"
     ],
     "language": "python",
     "metadata": {},
     "outputs": []
    },
    {
     "cell_type": "markdown",
     "metadata": {},
     "source": [
      "Or if we just wanted a few columns:"
     ]
    },
    {
     "cell_type": "code",
     "collapsed": false,
     "input": [
      "complaints[is_noise & in_brooklyn][['Complaint Type', 'Borough', 'Created Date', 'Descriptor']][:10]"
     ],
     "language": "python",
     "metadata": {},
     "outputs": []
    },
    {
     "cell_type": "markdown",
     "metadata": {},
     "source": [
      "### A digression about numpy arrays"
     ]
    },
    {
     "cell_type": "markdown",
     "metadata": {},
     "source": [
      "On the inside, the type of a column is `pd.Series`"
     ]
    },
    {
     "cell_type": "code",
     "collapsed": false,
     "input": [
      "pd.Series([1,2,3])"
     ],
     "language": "python",
     "metadata": {},
     "outputs": []
    },
    {
     "cell_type": "markdown",
     "metadata": {},
     "source": [
      "and pandas Series are internally numpy arrays. If you add `.values` to the end of any `Series`, you'll get its internal numpy array"
     ]
    },
    {
     "cell_type": "code",
     "collapsed": false,
     "input": [
      "np.array([1,2,3])"
     ],
     "language": "python",
     "metadata": {},
     "outputs": []
    },
    {
     "cell_type": "code",
     "collapsed": false,
     "input": [
      "pd.Series([1,2,3]).values"
     ],
     "language": "python",
     "metadata": {},
     "outputs": []
    },
    {
     "cell_type": "markdown",
     "metadata": {},
     "source": [
      "So this binary-array-selection business is actually something that works with any numpy array:"
     ]
    },
    {
     "cell_type": "code",
     "collapsed": false,
     "input": [
      "arr = np.array([1,2,3])"
     ],
     "language": "python",
     "metadata": {},
     "outputs": []
    },
    {
     "cell_type": "code",
     "collapsed": false,
     "input": [
      "arr != 2"
     ],
     "language": "python",
     "metadata": {},
     "outputs": []
    },
    {
     "cell_type": "code",
     "collapsed": false,
     "input": [
      "arr[arr != 2]"
     ],
     "language": "python",
     "metadata": {},
     "outputs": []
    },
    {
     "cell_type": "markdown",
     "metadata": {},
     "source": [
      "### So, which borough has the most noise complaints?"
     ]
    },
    {
     "cell_type": "code",
     "collapsed": false,
     "input": [
      "is_noise = complaints['Complaint Type'] == \"Noise - Street/Sidewalk\"\n",
      "noise_complaints = complaints[is_noise]\n",
      "noise_complaints['Borough'].value_counts()"
     ],
     "language": "python",
     "metadata": {},
     "outputs": []
    },
    {
     "cell_type": "markdown",
     "metadata": {},
     "source": [
      "It's Manhattan! But what if we wanted to divide by the total number of complaints, to make it make a bit more sense? That would be easy too:"
     ]
    },
    {
     "cell_type": "code",
     "collapsed": false,
     "input": [
      "noise_complaint_counts = noise_complaints['Borough'].value_counts()\n",
      "complaint_counts = complaints['Borough'].value_counts()"
     ],
     "language": "python",
     "metadata": {},
     "outputs": []
    },
    {
     "cell_type": "code",
     "collapsed": false,
     "input": [
      "noise_complaint_counts / complaint_counts"
     ],
     "language": "python",
     "metadata": {},
     "outputs": []
    },
    {
     "cell_type": "code",
     "collapsed": false,
     "input": [
      "(noise_complaint_counts / complaint_counts.astype(float)).plot(kind='bar')"
     ],
     "language": "python",
     "metadata": {},
     "outputs": []
    },
    {
     "cell_type": "markdown",
     "metadata": {},
     "source": [
      "So Manhattan really does complain more about noise than the other boroughs! Neat."
     ]
    },
    {
     "cell_type": "markdown",
     "metadata": {},
     "source": [
      "<style>\n",
      "    @font-face {\n",
      "        font-family: \"Computer Modern\";\n",
      "        src: url('http://mirrors.ctan.org/fonts/cm-unicode/fonts/otf/cmunss.otf');\n",
      "    }\n",
      "    div.cell{\n",
      "        width:800px;\n",
      "        margin-left:16% !important;\n",
      "        margin-right:auto;\n",
      "    }\n",
      "    h1 {\n",
      "        font-family: Helvetica, serif;\n",
      "    }\n",
      "    h4{\n",
      "        margin-top:12px;\n",
      "        margin-bottom: 3px;\n",
      "       }\n",
      "    div.text_cell_render{\n",
      "        font-family: Computer Modern, \"Helvetica Neue\", Arial, Helvetica, Geneva, sans-serif;\n",
      "        line-height: 145%;\n",
      "        font-size: 130%;\n",
      "        width:800px;\n",
      "        margin-left:auto;\n",
      "        margin-right:auto;\n",
      "    }\n",
      "    .CodeMirror{\n",
      "            font-family: \"Source Code Pro\", source-code-pro,Consolas, monospace;\n",
      "    }\n",
      "    .text_cell_render h5 {\n",
      "        font-weight: 300;\n",
      "        font-size: 22pt;\n",
      "        color: #4057A1;\n",
      "        font-style: italic;\n",
      "        margin-bottom: .5em;\n",
      "        margin-top: 0.5em;\n",
      "        display: block;\n",
      "    }\n",
      "    \n",
      "    .warning{\n",
      "        color: rgb( 240, 20, 20 )\n",
      "        }  "
     ]
    },
    {
     "cell_type": "code",
     "collapsed": false,
     "input": [
      "%matplotlib inline\n",
      "\n",
      "import pandas as pd\n",
      "import matplotlib.pyplot as plt\n",
      "\n",
      "pd.set_option('display.mpl_style', 'default') # Make the graphs a bit prettier\n",
      "plt.rcParams['figure.figsize'] = (15, 5)\n",
      "\n",
      "# This is necessary to show lots of columns in pandas 0.12. \n",
      "# Not necessary in pandas 0.13.\n",
      "pd.set_option('display.line_width', 5000) \n",
      "pd.set_option('display.max_columns', 60)"
     ],
     "language": "python",
     "metadata": {},
     "outputs": []
    },
    {
     "cell_type": "markdown",
     "metadata": {},
     "source": [
      "## Groupby and Aggregate\n",
      "- - -\n",
      "\n",
      "Okay! We're going back to our bike path dataset here. I live in Montreal, and I was curious about whether we're more of a commuter city or a biking-for-fun city -- do people bike more on weekends, or on weekdays?"
     ]
    },
    {
     "cell_type": "markdown",
     "metadata": {},
     "source": [
      "### Adding a 'weekday' column to our dataframe"
     ]
    },
    {
     "cell_type": "markdown",
     "metadata": {},
     "source": [
      "First, we need to load up the data. We've done this before."
     ]
    },
    {
     "cell_type": "code",
     "collapsed": false,
     "input": [
      "bikes = pd.read_csv('../data/bikes.csv', sep=';', encoding='latin1', parse_dates=['Date'], dayfirst=True, index_col='Date')\n",
      "bikes['Berri 1'].plot()"
     ],
     "language": "python",
     "metadata": {},
     "outputs": []
    },
    {
     "cell_type": "markdown",
     "metadata": {},
     "source": [
      "Next up, we're just going to look at the Berri bike path. Berri is a street in Montreal, with a pretty important bike path. I use it mostly on my way to the library now, but I used to take it to work sometimes when I worked in Old Montreal. \n",
      "\n",
      "So we're going to create a dataframe with just the Berri bikepath in it"
     ]
    },
    {
     "cell_type": "code",
     "collapsed": false,
     "input": [
      "berri_bikes = bikes[['Berri 1']]"
     ],
     "language": "python",
     "metadata": {},
     "outputs": []
    },
    {
     "cell_type": "code",
     "collapsed": false,
     "input": [
      "berri_bikes[:5]"
     ],
     "language": "python",
     "metadata": {},
     "outputs": []
    },
    {
     "cell_type": "markdown",
     "metadata": {},
     "source": [
      "Next, we need to add a 'weekday' column. Firstly, we can get the weekday from the index. We haven't talked about indexes yet, but the index is what's on the left on the above dataframe, under 'Date'. It's basically all the days of the year."
     ]
    },
    {
     "cell_type": "code",
     "collapsed": false,
     "input": [
      "berri_bikes.index"
     ],
     "language": "python",
     "metadata": {},
     "outputs": []
    },
    {
     "cell_type": "markdown",
     "metadata": {},
     "source": [
      "You can see that actually some of the days are missing -- only 310 days of the year are actually there. Who knows why.\n",
      "\n",
      "Pandas has a bunch of really great time series functionality, so if we wanted to get the day of the month for each row, we could do it like this:"
     ]
    },
    {
     "cell_type": "code",
     "collapsed": false,
     "input": [
      "berri_bikes.index.day"
     ],
     "language": "python",
     "metadata": {},
     "outputs": []
    },
    {
     "cell_type": "markdown",
     "metadata": {},
     "source": [
      "We actually want the weekday, though:"
     ]
    },
    {
     "cell_type": "code",
     "collapsed": false,
     "input": [
      "berri_bikes.index.weekday"
     ],
     "language": "python",
     "metadata": {},
     "outputs": []
    },
    {
     "cell_type": "markdown",
     "metadata": {},
     "source": [
      "These are the days of the week, where 0 is Monday (i.e., zero-indexed, European-style calendar).\n",
      "\n",
      "Now that we know how to *get* the weekday, we can add it as a column in our dataframe like this:"
     ]
    },
    {
     "cell_type": "code",
     "collapsed": false,
     "input": [
      "berri_bikes['weekday'] = berri_bikes.index.weekday\n",
      "berri_bikes[:5]"
     ],
     "language": "python",
     "metadata": {},
     "outputs": []
    },
    {
     "cell_type": "markdown",
     "metadata": {},
     "source": [
      "### Adding up the cyclists by weekday"
     ]
    },
    {
     "cell_type": "markdown",
     "metadata": {},
     "source": [
      "This turns out to be really easy!\n",
      "\n",
      "Dataframes have a `.groupby()` method that is similar to SQL groupby, if you're familiar with that. I'm not going to explain more about it right now -- if you want to to know more, [the documentation](http://pandas.pydata.org/pandas-docs/stable/groupby.html) is really good.\n",
      "\n",
      "In this case, `berri_bikes.groupby('weekday').aggregate(sum)` means \"Group the rows by weekday and then add up all the values with the same weekday\"."
     ]
    },
    {
     "cell_type": "code",
     "collapsed": false,
     "input": [
      "weekday_counts = berri_bikes.groupby('weekday').aggregate(sum)\n",
      "weekday_counts"
     ],
     "language": "python",
     "metadata": {},
     "outputs": []
    },
    {
     "cell_type": "markdown",
     "metadata": {},
     "source": [
      "It's hard to remember what 0, 1, 2, 3, 4, 5, 6 mean, so we can fix it up and graph it:"
     ]
    },
    {
     "cell_type": "code",
     "collapsed": false,
     "input": [
      "weekday_counts.index = ['Monday', 'Tuesday', 'Wednesday', 'Thursday', 'Friday', 'Saturday', 'Sunday']\n",
      "weekday_counts"
     ],
     "language": "python",
     "metadata": {},
     "outputs": []
    },
    {
     "cell_type": "code",
     "collapsed": false,
     "input": [
      "weekday_counts.plot(kind='bar')"
     ],
     "language": "python",
     "metadata": {},
     "outputs": []
    },
    {
     "cell_type": "markdown",
     "metadata": {},
     "source": [
      "So it looks like Montrealers are commuter cyclists -- they bike much more during the week. Neat!"
     ]
    },
    {
     "cell_type": "markdown",
     "metadata": {},
     "source": [
      "### Putting it together"
     ]
    },
    {
     "cell_type": "markdown",
     "metadata": {},
     "source": [
      "Let's put all that together, to prove how easy it is. 6 lines of magical pandas!\n",
      "\n",
      "If you want to play around, try changing `sum` to `max`, `numpy.median`, or any other function you like."
     ]
    },
    {
     "cell_type": "code",
     "collapsed": false,
     "input": [
      "bikes = pd.read_csv('../data/bikes.csv', \n",
      "                    sep=';', encoding='latin1', \n",
      "                    parse_dates=['Date'], dayfirst=True, \n",
      "                    index_col='Date')\n",
      "# Add the weekday column\n",
      "berri_bikes = bikes[['Berri 1']]\n",
      "berri_bikes['weekday'] = berri_bikes.index.weekday\n",
      "\n",
      "# Add up the number of cyclists by weekday, and plot!\n",
      "weekday_counts = berri_bikes.groupby('weekday').aggregate(sum)\n",
      "weekday_counts.index = ['Monday', 'Tuesday', 'Wednesday', 'Thursday', 'Friday', 'Saturday', 'Sunday']\n",
      "weekday_counts.plot(kind='bar')"
     ],
     "language": "python",
     "metadata": {},
     "outputs": []
    },
    {
     "cell_type": "markdown",
     "metadata": {},
     "source": [
      "Now you know enough Pandas to be able to use it for basic network traffic analysis, which we'll continue with in the next notebook.\n",
      "\n",
      "- - - - - -\n",
      "This notebook is largely adapted from the [Pandas Cookbook](https://github.com/jvns/pandas-cookbook) by Julia Evans, and is licensed under a [Creative Commons Attribution-ShareAlike 4.0 International License](http://creativecommons.org/licenses/by-sa/4.0/)."
     ]
    },
    {
     "cell_type": "markdown",
     "metadata": {},
     "source": [
      "<style>\n",
      "    @font-face {\n",
      "        font-family: \"Computer Modern\";\n",
      "        src: url('http://mirrors.ctan.org/fonts/cm-unicode/fonts/otf/cmunss.otf');\n",
      "    }\n",
      "    div.cell{\n",
      "        width:800px;\n",
      "        margin-left:16% !important;\n",
      "        margin-right:auto;\n",
      "    }\n",
      "    h1 {\n",
      "        font-family: Helvetica, serif;\n",
      "    }\n",
      "    h4{\n",
      "        margin-top:12px;\n",
      "        margin-bottom: 3px;\n",
      "       }\n",
      "    div.text_cell_render{\n",
      "        font-family: Computer Modern, \"Helvetica Neue\", Arial, Helvetica, Geneva, sans-serif;\n",
      "        line-height: 145%;\n",
      "        font-size: 130%;\n",
      "        width:800px;\n",
      "        margin-left:auto;\n",
      "        margin-right:auto;\n",
      "    }\n",
      "    .CodeMirror{\n",
      "            font-family: \"Source Code Pro\", source-code-pro,Consolas, monospace;\n",
      "    }\n",
      "    .text_cell_render h5 {\n",
      "        font-weight: 300;\n",
      "        font-size: 22pt;\n",
      "        color: #4057A1;\n",
      "        font-style: italic;\n",
      "        margin-bottom: .5em;\n",
      "        margin-top: 0.5em;\n",
      "        display: block;\n",
      "    }\n",
      "    \n",
      "    .warning{\n",
      "        color: rgb( 240, 20, 20 )\n",
      "        }  "
     ]
    }
   ],
   "metadata": {}
  }
 ]
}