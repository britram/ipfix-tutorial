{
 "metadata": {
  "name": "",
  "signature": "sha256:a82d26a5906aa3e2f74165974f998c8b5de5c0a7ef35fb879d514e33c91e8747"
 },
 "nbformat": 3,
 "nbformat_minor": 0,
 "worksheets": [
  {
   "cells": [
    {
     "cell_type": "markdown",
     "metadata": {},
     "source": [
      "## Introducing Flows\n",
      "\n",
      "In this notebook, we'll use the QoF flow meter, Python `ipfix` module, and Pandas to explore the characteristics of flow data.\n",
      "\n",
      "Flow data analysis is in general somewhat difficult to experiment with, as it involves passive observation of network traffic data, which carries with it network end-user privacy risk and may additionally come with stringent regulatory and legal requirements. For this tutorial, we'll be using publicly available [WIDE MAWI traces](http://mawi.wide.ad.jp/mawi/), which, being collected from a transpacific backbone link, are not really representative of the types of traffic in access, enterprise, or academic networks; and, having their IP addresses anonymized without preserving structure, are not really useful for looking at the structure of the networks on either side of the backbone. We'll put up with these inconveniences for the sake of having real data to play with, though.\n",
      "\n",
      "If you have access to your own network traces, you can run these through [QoF](https://github.com/britram/qof): \n",
      "```\n",
      "qof --yaml qof-config.yaml --in my-trace-file.gz --out my-ipfix-file.ipfix\n",
      "```\n",
      "then point this notebook at the resulting IPFIX file.\n",
      "\n",
      "This notebook uses the [Pandas](http://pandas.pydata.org/) data analysis framework to explore a collection of flow data. So first, run the following code to import some flows into dataframe:"
     ]
    },
    {
     "cell_type": "code",
     "collapsed": false,
     "input": [
      "import ipfix\n",
      "import panfix\n",
      "import gzip\n",
      "import bz2\n",
      "\n",
      "ipfix.ie.use_iana_default()\n",
      "ipfix.types.use_integer_ipv4()\n",
      "\n",
      "# Set the name of the IPFIX file to work on here.\n",
      "ipfix_filename = \"../mawi-0330-30min-uniflow.ipfix.gz\"\n",
      "# change to gz.open, bz2.open or open, as appropriate\n",
      "ipfix_file_fn = gzip.open\n",
      "\n",
      "df = panfix.dataframe_from_ipfix(ipfix_filename, (\n",
      "                                 \"flowStartMilliseconds\",  \"flowEndMilliseconds\", \n",
      "                                 \"sourceIPv4Address\",      \"sourceTransportPort\",\n",
      "                                 \"destinationIPv4Address\", \"destinationTransportPort\", \n",
      "                                 \"protocolIdentifier\",     \"flowEndReason\",\n",
      "                                 \"octetDeltaCount\",        \"packetDeltaCount\"), open_fn=ipfix_file_fn)\n",
      "panfix.coerce_timestamps(df)\n",
      "panfix.derive_duration(df)"
     ],
     "language": "python",
     "metadata": {},
     "outputs": []
    },
    {
     "cell_type": "markdown",
     "metadata": {},
     "source": [
      "durations, elephants, mice, and weasels"
     ]
    },
    {
     "cell_type": "code",
     "collapsed": false,
     "input": [],
     "language": "python",
     "metadata": {},
     "outputs": []
    },
    {
     "cell_type": "code",
     "collapsed": false,
     "input": [
      "import matplotlib as plt"
     ],
     "language": "python",
     "metadata": {},
     "outputs": []
    },
    {
     "cell_type": "markdown",
     "metadata": {},
     "source": [
      "- - - - - -\n",
      "This notebook is &copy; 2013-2014 Brian Trammell, and is available under the terms of the [GNU Free Documentation License](http://www.gnu.org/copyleft/fdl.html) version 1.3 or, at your option, any later version."
     ]
    }
   ],
   "metadata": {}
  }
 ]
}