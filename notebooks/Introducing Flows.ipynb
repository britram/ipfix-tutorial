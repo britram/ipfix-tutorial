{
 "metadata": {
  "name": "",
  "signature": "sha256:c4ed45ecef00989bc3eeb7e20b66c380dbd6f6d473ad589a70a8af680b1c338c"
 },
 "nbformat": 3,
 "nbformat_minor": 0,
 "worksheets": [
  {
   "cells": [
    {
     "cell_type": "markdown",
     "metadata": {},
     "source": [
      "## Introducing Flows\n",
      "\n",
      "In this notebook, we'll use the QoF flow meter, Python `ipfix` module, and Pandas to explore the characteristics of flow data.\n",
      "\n",
      "Flow data analysis is in general somewhat difficult to experiment with, as it involves passive observation of network traffic data, which carries with it network end-user privacy risk and may additionally come with stringent regulatory and legal requirements. For this tutorial, we'll be using publicly available [WIDE MAWI traces](http://mawi.wide.ad.jp/mawi/), which, being collected from a transpacific backbone link, are not really representative of the types of traffic in access, enterprise, or academic networks; and, having their IP addresses anonymized without preserving structure, are not really useful for looking at the structure of the networks on either side of the backbone. We'll put up with these inconveniences for the sake of having real data to play with, though.\n",
      "\n",
      "If you have access to your own network traces, you can run these through [QoF](https://github.com/britram/qof): \n",
      "```\n",
      "qof --yaml qof-config.yaml --in my-trace-file.gz --out my-ipfix-file.ipfix\n",
      "```\n",
      "then point this notebook at the resulting IPFIX file.\n",
      "\n",
      "This notebook uses the [Pandas](http://pandas.pydata.org/) data analysis framework to explore a collection of flow data. So first, run the following code to import some flows into dataframe:"
     ]
    },
    {
     "cell_type": "code",
     "collapsed": false,
     "input": [
      "import ipfix\n",
      "import panfix\n",
      "import gz\n",
      "import bz2\n",
      "\n",
      "# Set the name of the IPFIX file to work on here.\n",
      "ipfix_file = \"mawi-0330-30min-uniflow.ipfix.gz\"\n",
      "# change to gz.open, bz2.open or open, as appropriate\n",
      "ipfix_file_fn = gz.open "
     ],
     "language": "python",
     "metadata": {},
     "outputs": [
      {
       "ename": "NameError",
       "evalue": "name 'DEFAULT_QOF_IES' is not defined",
       "output_type": "pyerr",
       "traceback": [
        "\u001b[1;31m---------------------------------------------------------------------------\u001b[0m\n\u001b[1;31mNameError\u001b[0m                                 Traceback (most recent call last)",
        "\u001b[1;32m<ipython-input-1-6b0f101ca4a6>\u001b[0m in \u001b[0;36m<module>\u001b[1;34m()\u001b[0m\n\u001b[0;32m      1\u001b[0m \u001b[1;32mimport\u001b[0m \u001b[0mipfix\u001b[0m\u001b[1;33m\u001b[0m\u001b[0m\n\u001b[1;32m----> 2\u001b[1;33m \u001b[1;32mimport\u001b[0m \u001b[0mpanfix\u001b[0m\u001b[1;33m\u001b[0m\u001b[0m\n\u001b[0m\u001b[0;32m      3\u001b[0m \u001b[1;32mimport\u001b[0m \u001b[0mgz\u001b[0m\u001b[1;33m\u001b[0m\u001b[0m\n\u001b[0;32m      4\u001b[0m \u001b[1;32mimport\u001b[0m \u001b[0mbz2\u001b[0m\u001b[1;33m\u001b[0m\u001b[0m\n\u001b[0;32m      5\u001b[0m \u001b[1;33m\u001b[0m\u001b[0m\n",
        "\u001b[1;32m/home/brian/ipfix-tutorial/notebooks/panfix.py\u001b[0m in \u001b[0;36m<module>\u001b[1;34m()\u001b[0m\n\u001b[0;32m     55\u001b[0m                   filter(lambda a: a is not None, group)], columns=columns)\n\u001b[0;32m     56\u001b[0m \u001b[1;33m\u001b[0m\u001b[0m\n\u001b[1;32m---> 57\u001b[1;33m \u001b[1;32mdef\u001b[0m \u001b[0mdataframe_from_ipfix_stream\u001b[0m\u001b[1;33m(\u001b[0m\u001b[0mstream\u001b[0m\u001b[1;33m,\u001b[0m \u001b[0mienames\u001b[0m\u001b[1;33m=\u001b[0m\u001b[0mDEFAULT_QOF_IES\u001b[0m\u001b[1;33m,\u001b[0m \u001b[0mchunksize\u001b[0m\u001b[1;33m=\u001b[0m\u001b[1;36m100000\u001b[0m\u001b[1;33m,\u001b[0m \u001b[0mcount\u001b[0m\u001b[1;33m=\u001b[0m\u001b[1;32mNone\u001b[0m\u001b[1;33m)\u001b[0m\u001b[1;33m:\u001b[0m\u001b[1;33m\u001b[0m\u001b[0m\n\u001b[0m\u001b[0;32m     58\u001b[0m     \"\"\" \n\u001b[0;32m     59\u001b[0m     \u001b[0mread\u001b[0m \u001b[0man\u001b[0m \u001b[0mIPFIX\u001b[0m \u001b[0mstream\u001b[0m \u001b[0minto\u001b[0m \u001b[0ma\u001b[0m \u001b[0mdataframe\u001b[0m\u001b[1;33m,\u001b[0m \u001b[0mselecting\u001b[0m \u001b[0monly\u001b[0m \u001b[0mrecords\u001b[0m\u001b[1;33m\u001b[0m\u001b[0m\n",
        "\u001b[1;31mNameError\u001b[0m: name 'DEFAULT_QOF_IES' is not defined"
       ]
      }
     ],
     "prompt_number": 1
    },
    {
     "cell_type": "markdown",
     "metadata": {},
     "source": [
      "durations, elephants, mice, and weasels"
     ]
    },
    {
     "cell_type": "markdown",
     "metadata": {},
     "source": [
      "- - - - - -\n",
      "This notebook is &copy; 2013-2014 Brian Trammell, and is available under the terms of the [GNU Free Documentation License](http://www.gnu.org/copyleft/fdl.html) version 1.3 or, at your option, any later version."
     ]
    }
   ],
   "metadata": {}
  }
 ]
}