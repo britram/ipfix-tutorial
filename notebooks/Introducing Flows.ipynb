{
 "metadata": {
  "name": "",
  "signature": "sha256:bb933e6fab7a6894b12a374d241e7cf2dbfb264de88882a1f2188f409bad1372"
 },
 "nbformat": 3,
 "nbformat_minor": 0,
 "worksheets": [
  {
   "cells": [
    {
     "cell_type": "markdown",
     "metadata": {},
     "source": [
      "## Introducing Flows\n",
      "\n",
      "In this notebook, we'll use the QoF flow meter, Python `ipfix` module, and Pandas to explore the characteristics of flow data.\n",
      "\n",
      "Flow data analysis is in general somewhat difficult to experiment with, as it involves passive observation of network traffic data, which carries with it network end-user privacy risk and may additionally come with stringent regulatory and legal requirements. For this tutorial, we'll be using publicly available [WIDE MAWI traces](http://mawi.wide.ad.jp/mawi/), which, being collected from a transpacific backbone link, are not really representative of the types of traffic in access, enterprise, or academic networks; and, having their IP addresses anonymized without preserving structure, are not really useful for looking at the structure of the networks on either side of the backbone. We'll put up with these inconveniences for the sake of having real data to play with, though.\n",
      "\n",
      "If you have access to your own network traces, you can run these through [QoF](https://github.com/britram/qof): \n",
      "```\n",
      "qof --yaml qof-config.yaml --in my-trace-file.gz --out my-ipfix-file.ipfix\n",
      "```\n",
      "then point this notebook at the resulting IPFIX file."
     ]
    },
    {
     "cell_type": "markdown",
     "metadata": {},
     "source": [
      "packet and flow counts"
     ]
    },
    {
     "cell_type": "markdown",
     "metadata": {},
     "source": [
      "durations, elephants, mice, and weasels"
     ]
    }
   ],
   "metadata": {}
  }
 ]
}