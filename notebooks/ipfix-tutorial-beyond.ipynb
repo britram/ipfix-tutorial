{
 "metadata": {
  "name": "",
  "signature": "sha256:7e69976b75763f0f027687306716177b30d40618183ff899de982a74dca9511d"
 },
 "nbformat": 3,
 "nbformat_minor": 0,
 "worksheets": [
  {
   "cells": [
    {
     "cell_type": "markdown",
     "metadata": {},
     "source": [
      "Beyond Flow Export\n",
      "------------------\n",
      "\n",
      "So far, we've explored the use of IPFIX for flow export; however, the protocol is useful for any application to which the following applies:\n",
      "\n",
      "- The application's data flow is fundamentally unidirectional. IPFIX is a \"push\" protocol, supporting only the export of information from a sender (an Exporting Process) to a receiver (a Collecting Process).  Request-response interactions are not supported by IPFIX.\n",
      "- The application handles discrete event information, or information to be periodically reported.  IPFIX is particularly well suited to representing events, which can be scoped in time.\n",
      "- The application handles information about network entities. IPFIX's information model is network-oriented, so network management applications have many opportunities for information model reuse.\n",
      "- The application requires a small number of arrangements of data structures relative to the number of records it handles.  The template-driven self-description mechanism used by IPFIX excels at handling large volumes of identically structured data, compared to representations which define structure inline with data (such as XML).\n",
      "\n",
      "To take an example, let's use IPFIX to solve a common problem during IETF meetings: meeting room temperature. Let's say we have a table of observation point identifiers to meeting room names, and use IPFIX to periodically export ambient temperature information for a given machine. In an ideal world, we'd write a proper description for the Information Element and send it to IANA, as follows:\n",
      "\n",
      "- Name: ambientTemperatureCelsius\n",
      "- Description: The ambient temperature measured in the environment. May be associated with an Observation Point or a Metering Process; otherwise, taken to be the ambient temperature in the environment of the Exporting Process.\n",
      "- Abstract Data Type: float32\n",
      "- Units: degrees Celsius\n",
      "- Range: -273.15 - +infinity\n",
      "\n",
      "But this is just a two hour tutorial, so we'll use an enterprise-specific Information Element instead:"
     ]
    },
    {
     "cell_type": "code",
     "collapsed": false,
     "input": [
      "import ipfix\n",
      "import ipfix.vis\n",
      "\n",
      "from datetime import datetime\n",
      "from IPython.display import SVG\n",
      "\n",
      "def draw_message(msg, length=256):\n",
      "    return SVG(ipfix.vis.MessageBufferRenderer(msg, raster=4).render(length=length))\n",
      "\n",
      "ipfix.ie.use_iana_default()\n",
      "ipfix.ie.use_5103_default()\n",
      "ipfix.ie.for_spec(\"ambientTemperatureCelsius(35566/2)<float32>[4]\")"
     ],
     "language": "python",
     "metadata": {},
     "outputs": []
    },
    {
     "cell_type": "markdown",
     "metadata": {},
     "source": [
      "And now a template and a message:"
     ]
    },
    {
     "cell_type": "code",
     "collapsed": false,
     "input": [
      "ttmpl = ipfix.template.for_specs(263, \"observationTimeMilliseconds\", \n",
      "                                      \"observationPointId[4]\",\n",
      "                                      \"ambientTemperatureCelsius\")\n",
      "msg = ipfix.message.MessageBuffer()\n",
      "msg.begin_export(8304)\n",
      "msg.add_template(ttmpl)\n",
      "msg.export_new_set(263)\n",
      "msg.export_namedict({'observationTimeMilliseconds': datetime.utcnow(),\n",
      "                     'observationPointId':          1,\n",
      "                     'ambientTemperatureCelsius':   22.3})\n",
      "draw_message(msg)"
     ],
     "language": "python",
     "metadata": {},
     "outputs": []
    },
    {
     "cell_type": "markdown",
     "metadata": {},
     "source": [
      "Of course, physical measurements are more interesting if they're real. We've attached a cheap temperature-and-humidity sensor to a Raspberry Pi connected to the display laptop to demonstrate two things:\n",
      "\n",
      "1. IPFIX can be applied to any push-based event data export task, and\n",
      "2. the protocol itself is lightweight enough to implement anywhere you realistically have a TCP/IP stack.\n",
      "\n",
      "Here, we took an off-the-shelf user-space driver for the sensor attached to the GPIO pins, and added some C code to encode the result as IPFIX, attaching a static template and message header. This program doesn't even handle network communication; for that, we pipe its binary IPFIX output to nc, which acts as a TCP exporting process given an IPFIX message stream.\n",
      "\n",
      "This sensor handles relative humidity as well as temperature, so we'll need an IE for that, too:"
     ]
    },
    {
     "cell_type": "code",
     "collapsed": false,
     "input": [
      "ipfix.ie.for_spec(\"relativeHumidityPercent(35566/3)<float32>[4]\")"
     ],
     "language": "python",
     "metadata": {},
     "outputs": []
    },
    {
     "cell_type": "markdown",
     "metadata": {},
     "source": [
      "As before, we'll visualize each message using the ipfix.vis package:"
     ]
    },
    {
     "cell_type": "code",
     "collapsed": false,
     "input": [
      "import socketserver\n",
      "import ipfix.reader\n",
      "\n",
      "msg_count = 5\n",
      "msg_length = 512\n",
      "msg_idx = 0\n",
      "svgbuf = []\n",
      "\n",
      "def draw_next_buffered_message(next_msg_idx = None):\n",
      "    global msg_idx\n",
      "    if next_msg_idx is not None:\n",
      "        msg_idx = next_msg_idx\n",
      "    display(SVG(data=svgbuf[msg_idx]))\n",
      "    msg_idx += 1\n",
      "\n",
      "class StreamRendererHandler(socketserver.StreamRequestHandler):\n",
      "    def handle(self):\n",
      "        global svgbuf\n",
      "        print (\"connection from \"+str(self.client_address))\n",
      "        msr = ipfix.vis.MessageStreamRenderer(self.rfile, scale=(90,30), raster=4)\n",
      "        \n",
      "        for i in range(msg_count):\n",
      "            svgbuf.append(msr.render_next_message(msg_length))\n",
      "\n",
      "srv = None\n",
      "srv = socketserver.TCPServer((\"\", 4739), StreamRendererHandler)\n",
      "srv.handle_request()"
     ],
     "language": "python",
     "metadata": {},
     "outputs": []
    },
    {
     "cell_type": "code",
     "collapsed": false,
     "input": [
      "draw_next_buffered_message()"
     ],
     "language": "python",
     "metadata": {},
     "outputs": []
    },
    {
     "cell_type": "code",
     "collapsed": false,
     "input": [],
     "language": "python",
     "metadata": {},
     "outputs": []
    },
    {
     "cell_type": "code",
     "collapsed": false,
     "input": [],
     "language": "python",
     "metadata": {},
     "outputs": []
    }
   ],
   "metadata": {}
  }
 ]
}